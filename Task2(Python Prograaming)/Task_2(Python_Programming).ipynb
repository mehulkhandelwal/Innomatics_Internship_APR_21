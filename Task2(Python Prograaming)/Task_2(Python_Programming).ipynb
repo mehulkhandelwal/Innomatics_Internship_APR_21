{
  "nbformat": 4,
  "nbformat_minor": 0,
  "metadata": {
    "colab": {
      "name": "Task-2(Python Programming).ipynb",
      "provenance": [],
      "collapsed_sections": []
    },
    "kernelspec": {
      "name": "python3",
      "display_name": "Python 3"
    },
    "language_info": {
      "name": "python"
    }
  },
  "cells": [
    {
      "cell_type": "code",
      "metadata": {
        "colab": {
          "base_uri": "https://localhost:8080/"
        },
        "id": "ZJtJ5jNR-aUq",
        "outputId": "4186a200-9e3b-420d-ac29-98f6cd91b13c"
      },
      "source": [
        "#ques1 List Comprehensions\n",
        "\n",
        "if __name__ == '__main__':\n",
        "    x = int(input())\n",
        "    y = int(input())\n",
        "    z = int(input())\n",
        "    n = int(input())\n",
        "    \n",
        "    print([[i,j,k] for i in range(x+1) for j in range(y+1) for k in range(z+1) if i+j+k!=n])\n"
      ],
      "execution_count": 1,
      "outputs": [
        {
          "output_type": "stream",
          "text": [
            "1\n",
            "1\n",
            "1\n",
            "2\n",
            "[[0, 0, 0], [0, 0, 1], [0, 1, 0], [1, 0, 0], [1, 1, 1]]\n"
          ],
          "name": "stdout"
        }
      ]
    },
    {
      "cell_type": "code",
      "metadata": {
        "colab": {
          "base_uri": "https://localhost:8080/"
        },
        "id": "IOwefXbM-ohv",
        "outputId": "03e1bf4b-f186-4d74-9e58-435ff981553c"
      },
      "source": [
        "#ques2 Find the Runner-Up Score!\n",
        "\n",
        "if __name__ == '__main__':\n",
        "    n=int(input())\n",
        "    s=input()\n",
        "    li=s.split(' ')\n",
        "    li=list(set(li))\n",
        "    li=list(map(int,li))\n",
        "    li.sort()\n",
        "    l=len(li)\n",
        "    print(li[l-2])\n"
      ],
      "execution_count": 3,
      "outputs": [
        {
          "output_type": "stream",
          "text": [
            "5\n",
            "2 3 6 6 5\n",
            "5\n"
          ],
          "name": "stdout"
        }
      ]
    },
    {
      "cell_type": "code",
      "metadata": {
        "colab": {
          "base_uri": "https://localhost:8080/"
        },
        "id": "Y8InOnml-71I",
        "outputId": "d1dd6f4d-6d1c-4b1a-e897-4a98681bd50a"
      },
      "source": [
        "#ques3 Nested ListsAk\n",
        "\n",
        "if __name__ == '__main__':\n",
        "        n=int(input())\n",
        "        l1=[]\n",
        "        l2=[]\n",
        "        for i in range(n):\n",
        "            l1.append(input())\n",
        "            l2.append(float(input()))\n",
        "        x=min(l2)\n",
        "        l3=[i for i in(l2) if i!=x]\n",
        "        x=min(l3)\n",
        "        l4=[l1[j] for j in range(n) if x==l2[j]]\n",
        "        n=len(l4)\n",
        "        l4.sort()\n",
        "        for i in range(n):\n",
        "            print('output:',l4[i])\n"
      ],
      "execution_count": 7,
      "outputs": [
        {
          "output_type": "stream",
          "text": [
            "5\n",
            "harry\n",
            "37.21\n",
            "berry\n",
            "37.21\n",
            "tina\n",
            "37.2\n",
            "akriti\n",
            "41\n",
            "harsh\n",
            "39\n",
            "output: berry\n",
            "output: harry\n"
          ],
          "name": "stdout"
        }
      ]
    },
    {
      "cell_type": "code",
      "metadata": {
        "colab": {
          "base_uri": "https://localhost:8080/"
        },
        "id": "_-u9Gc7FAbeC",
        "outputId": "1463c63b-481e-47aa-af25-5bca0c7b12cf"
      },
      "source": [
        "#ques 4 finding the percentage\n",
        "if __name__ == '__main__':\n",
        "    n = int(input())\n",
        "    student_marks = {}\n",
        "    for _ in range(n):\n",
        "        name, *line = input().split()\n",
        "        scores = list(map(float, line))\n",
        "        student_marks[name] = scores\n",
        "    query_name = input()\n",
        "    marks = student_marks[query_name]\n",
        "    avg=sum(marks)/(len(marks))\n",
        "    print(\"{0:.2f}\".format(avg))\n"
      ],
      "execution_count": 8,
      "outputs": [
        {
          "output_type": "stream",
          "text": [
            "3\n",
            "Krishna 67 68 69\n",
            "Arjun 70 98 63\n",
            "Malika 52 56 60\n",
            "Malika\n",
            "56.00\n"
          ],
          "name": "stdout"
        }
      ]
    },
    {
      "cell_type": "code",
      "metadata": {
        "colab": {
          "base_uri": "https://localhost:8080/"
        },
        "id": "F2cC3IfHBSAt",
        "outputId": "f36f0ecc-e0e2-4ace-a8c8-8d0ad4831c99"
      },
      "source": [
        "#ques 5 Lists\n",
        "if __name__ == '__main__':\n",
        "    N = int(input())\n",
        "    oper = []\n",
        "    for i in range(0,N):\n",
        "        ch = input().split()\n",
        "        if ch[0] == \"insert\":\n",
        "            oper.insert(int(ch[1]),int(ch[2]))\n",
        "        elif ch[0] == \"print\":\n",
        "            print(oper)\n",
        "        elif ch[0] == \"remove\":\n",
        "            oper.remove(int(ch[1]))\n",
        "        elif ch[0] == \"append\":\n",
        "            oper.append(int(ch[1]))\n",
        "        elif ch[0] == \"sort\":\n",
        "            oper.sort()\n",
        "        elif ch[0] == \"pop\":\n",
        "            oper.pop()\n",
        "        elif ch[0] == \"reverse\":\n",
        "            oper.reverse()\n",
        "        \n"
      ],
      "execution_count": 10,
      "outputs": [
        {
          "output_type": "stream",
          "text": [
            "12\n",
            "insert 0 5\n",
            "insert 1 10\n",
            "insert 0 6\n",
            "print\n",
            "[6, 5, 10]\n",
            "remove 6\n",
            "append 9\n",
            "append 1\n",
            "sort\n",
            "print\n",
            "[1, 5, 9, 10]\n",
            "pop\n",
            "reverse\n",
            "print\n",
            "[9, 5, 1]\n"
          ],
          "name": "stdout"
        }
      ]
    },
    {
      "cell_type": "code",
      "metadata": {
        "colab": {
          "base_uri": "https://localhost:8080/"
        },
        "id": "8b2hrR4KCh9a",
        "outputId": "0105ccd2-a1e6-4bbe-8424-76c98962b076"
      },
      "source": [
        "#ques 6 Tuple\n",
        "if __name__ == '__main__':\n",
        "    n = int(input())\n",
        "     \n",
        "    integer_list = input().split()\n",
        "    for i in range(n):\n",
        "        integer_list[i]= int(integer_list[i])\n",
        "        \n",
        "    tuple_list=tuple(integer_list)\n",
        "    print(hash(tuple_list))\n"
      ],
      "execution_count": 15,
      "outputs": [
        {
          "output_type": "stream",
          "text": [
            "2\n",
            "1 2\n",
            "3713081631934410656\n"
          ],
          "name": "stdout"
        }
      ]
    },
    {
      "cell_type": "code",
      "metadata": {
        "id": "CWPsAYVzDIry"
      },
      "source": [
        "#ques 7 Introduction to sets\n",
        "def average(array):\n",
        "    s=set(array)\n",
        "    output= sum(s)/len(s)\n",
        "    return output"
      ],
      "execution_count": 17,
      "outputs": []
    },
    {
      "cell_type": "code",
      "metadata": {
        "colab": {
          "base_uri": "https://localhost:8080/"
        },
        "id": "cZTBNvcrD-Ne",
        "outputId": "1268c56c-fb63-4cc9-b516-7d30fd3d7fc1"
      },
      "source": [
        "array=[161,182,161,154,176,170,167,171,170,174]\n",
        "average(array)"
      ],
      "execution_count": 18,
      "outputs": [
        {
          "output_type": "execute_result",
          "data": {
            "text/plain": [
              "169.375"
            ]
          },
          "metadata": {
            "tags": []
          },
          "execution_count": 18
        }
      ]
    },
    {
      "cell_type": "code",
      "metadata": {
        "colab": {
          "base_uri": "https://localhost:8080/"
        },
        "id": "UhODRcnuEMla",
        "outputId": "1e9cc98a-b7f6-4602-d585-10b7a87f3383"
      },
      "source": [
        "#ques 8 symmetric difference\n",
        "n=int(input())\n",
        "a1 =set(map(int,input().split()))\n",
        "m=int(input())\n",
        "b1=set(map(int,input().split()))\n",
        "\n",
        "first_diff=a1.difference(b1)\n",
        "second_diff=b1.difference(a1)\n",
        "\n",
        "output=sorted(second_diff.union(first_diff))\n",
        "print(\"output:\")\n",
        "for i in output:\n",
        "    print(i)\n",
        "\n"
      ],
      "execution_count": 21,
      "outputs": [
        {
          "output_type": "stream",
          "text": [
            "4\n",
            "2 4 5 9\n",
            "4\n",
            "2 4 11 12\n",
            "output:\n",
            "5\n",
            "9\n",
            "11\n",
            "12\n"
          ],
          "name": "stdout"
        }
      ]
    },
    {
      "cell_type": "code",
      "metadata": {
        "colab": {
          "base_uri": "https://localhost:8080/"
        },
        "id": "_5u6e2ovEUbK",
        "outputId": "9bd8509b-471c-4f15-bf3e-dc25d9a322ca"
      },
      "source": [
        "#ques 9 Set.add()\n",
        "n=int(input())\n",
        "stamp=set()\n",
        "for i in range(n):\n",
        "    country=input()\n",
        "    stamp.add(country)\n",
        "print(len(stamp))\n"
      ],
      "execution_count": 22,
      "outputs": [
        {
          "output_type": "stream",
          "text": [
            "7\n",
            "UK\n",
            "China\n",
            "France\n",
            "New Zealand\n",
            "UK\n",
            "France\n",
            "USA\n",
            "5\n"
          ],
          "name": "stdout"
        }
      ]
    },
    {
      "cell_type": "code",
      "metadata": {
        "colab": {
          "base_uri": "https://localhost:8080/"
        },
        "id": "Xxtd3d6DErtr",
        "outputId": "88af6432-bda8-40fb-efd5-a682c626b77e"
      },
      "source": [
        "#ques10 Set .discard(), .remove() & .pop()\n",
        "n = int(input())\n",
        "s = set(map(int, input().split()))\n",
        "N=int(input())\n",
        "\n",
        "for i in range(N):\n",
        "    operation= input().split()\n",
        "    if(operation[0]==\"remove\" or operation[0]==\"Remove\"):\n",
        "        s.remove(int(operation[1]))\n",
        "    elif(operation[0]==\"discard\" or operation[0]==\"Discard\"):\n",
        "        s.discard(int(operation[1]))\n",
        "    elif(operation[0]==\"pop\" or operation[0]==\"Pop\"):\n",
        "        s.pop()\n",
        "    \n",
        "print(sum(s))\n"
      ],
      "execution_count": 24,
      "outputs": [
        {
          "output_type": "stream",
          "text": [
            "9\n",
            "1 2 3 4 5 6 7 8 9\n",
            "10\n",
            "pop\n",
            "remove 9\n",
            "discard 9\n",
            "discard 8\n",
            "remove 7\n",
            "pop\n",
            "discard 6\n",
            "remove 5\n",
            "pop\n",
            "discard 5\n",
            "4\n"
          ],
          "name": "stdout"
        }
      ]
    },
    {
      "cell_type": "code",
      "metadata": {
        "colab": {
          "base_uri": "https://localhost:8080/"
        },
        "id": "bSL0svRiE7Xn",
        "outputId": "fd8962ab-90aa-43c8-9fce-cd926af7a665"
      },
      "source": [
        "#ques11 Set.union()\n",
        "n=input()\n",
        "rollE = set(map(int, input().split(' ')))\n",
        "m= input()\n",
        "rollF = set(map(int, input().split(' ')))\n",
        "print('output:', len(rollE.union(rollF)))\n",
        "\n"
      ],
      "execution_count": 27,
      "outputs": [
        {
          "output_type": "stream",
          "text": [
            "9\n",
            "1 2 3 4 5 6 7 8 9\n",
            "9\n",
            "10 1 2 3 11 21 55 6 8\n",
            "output: 13\n"
          ],
          "name": "stdout"
        }
      ]
    },
    {
      "cell_type": "code",
      "metadata": {
        "colab": {
          "base_uri": "https://localhost:8080/"
        },
        "id": "jVttm5c0FWW3",
        "outputId": "4bfdcd76-7414-4b01-df81-a71d535bf9bf"
      },
      "source": [
        "#ques 12 Set .intersection() Operation\n",
        "n=input()\n",
        "rollE = set(map(int, input().split(' ')))\n",
        "m= input()\n",
        "rollF = set(map(int, input().split(' ')))\n",
        "print('output:', len(rollE.intersection(rollF)))\n"
      ],
      "execution_count": 29,
      "outputs": [
        {
          "output_type": "stream",
          "text": [
            "9\n",
            "1 2 3 4 5 6 7 8 9\n",
            "9\n",
            "10 1 2 3 11 21 55 6 8\n",
            "output: 5\n"
          ],
          "name": "stdout"
        }
      ]
    },
    {
      "cell_type": "code",
      "metadata": {
        "colab": {
          "base_uri": "https://localhost:8080/"
        },
        "id": "I8FaUnFaF3ww",
        "outputId": "48cd182c-d201-442d-83cd-fba46f812175"
      },
      "source": [
        "#ques 13 Set .difference() Operation\n",
        "n=int(input())\n",
        "a1 =set(map(int,input().split()))\n",
        "m=int(input())\n",
        "b1 =set(map(int,input().split()))\n",
        "\n",
        "output=a1.difference(b1)\n",
        "print(\"output:\", len(output))\n"
      ],
      "execution_count": 31,
      "outputs": [
        {
          "output_type": "stream",
          "text": [
            "9\n",
            "1 2 3 4 5 6 7 8 9\n",
            "9\n",
            "10 1 2 3 11 21 55 6 8\n",
            "output: 4\n"
          ],
          "name": "stdout"
        }
      ]
    },
    {
      "cell_type": "code",
      "metadata": {
        "colab": {
          "base_uri": "https://localhost:8080/"
        },
        "id": "NBhbz1G2GG34",
        "outputId": "5ea8849f-bf98-4b52-de8c-a897d844e8b4"
      },
      "source": [
        "#ques 14 Set .symmetric_difference() Operation\n",
        "n=int(input())\n",
        "a1 =set(map(int,input().split()))\n",
        "m=int(input())\n",
        "b1 =set(map(int,input().split()))\n",
        "output=a1.symmetric_difference(b1)\n",
        "print(\"output:\", len(output))\n"
      ],
      "execution_count": 33,
      "outputs": [
        {
          "output_type": "stream",
          "text": [
            "9\n",
            "1 2 3 4 5 6 7 8 9\n",
            "9\n",
            "10 1 2 3 11 21 55 6 8\n",
            "output: 8\n"
          ],
          "name": "stdout"
        }
      ]
    },
    {
      "cell_type": "code",
      "metadata": {
        "colab": {
          "base_uri": "https://localhost:8080/"
        },
        "id": "zl9jAEj7GYpC",
        "outputId": "66bb1562-5fa2-4f78-d0de-2bed3a8c9aeb"
      },
      "source": [
        "#ques 15 Set Mutations\n",
        "n=int(input())\n",
        "A=set(map(int,input().split(\" \")))\n",
        "N=int(input())\n",
        "for i in range(N):\n",
        "    x,y=input().split(\" \")\n",
        "    s1=set(map(int,input().split(\" \")))\n",
        "    if x==\"update\":\n",
        "        A.update(s1)\n",
        "    elif x==\"difference_update\":\n",
        "        A.difference_update(s1)\n",
        "    elif x==\"intersection_update\":\n",
        "        A.intersection_update(s1)\n",
        "    else:\n",
        "        A.symmetric_difference_update(s1)\n",
        "print(sum(A))\n"
      ],
      "execution_count": 34,
      "outputs": [
        {
          "output_type": "stream",
          "text": [
            "16\n",
            "1 2 3 4 5 6 7 8 9 10 11 12 13 14 24 52\n",
            "4\n",
            "intersection_update 10\n",
            "2 3 5 6 8 9 1 4 7 11\n",
            "updare 2\n",
            "55 66\n",
            "symmetric_differece_update 5\n",
            "22 7 35 62 58\n",
            "difference_update 7\n",
            "11 22 35 55 58 62 66\n",
            "38\n"
          ],
          "name": "stdout"
        }
      ]
    },
    {
      "cell_type": "code",
      "metadata": {
        "colab": {
          "base_uri": "https://localhost:8080/"
        },
        "id": "roWHKRaYGmJX",
        "outputId": "41f48bd3-409d-49c4-cd99-f4d8e04a184a"
      },
      "source": [
        "#ques 16 The Captain's Room\n",
        "from collections import Counter\n",
        "K = int(input())\n",
        "list1 = list(map(int, input().split()))\n",
        "counts = Counter(list1)\n",
        "s1 = set(list1)\n",
        "for i in s1:\n",
        "    if counts.get(i) is 1:\n",
        "        print(i)\n"
      ],
      "execution_count": 35,
      "outputs": [
        {
          "output_type": "stream",
          "text": [
            "5\n",
            "1 2 3 6 5 4 4 2 5 3 6 1 6 5 3 2 4 1 2 5 1 4 3 6 8 4 3 1 5 6 2\n",
            "8\n"
          ],
          "name": "stdout"
        }
      ]
    },
    {
      "cell_type": "code",
      "metadata": {
        "colab": {
          "base_uri": "https://localhost:8080/"
        },
        "id": "dy1jLBuQHOGX",
        "outputId": "0c1fb61a-f723-4c29-b773-ad60f5782c6e"
      },
      "source": [
        "#ques 17 Check Subset\n",
        "for i in range(int(input())):\n",
        "    n = int(input()); \n",
        "    s1 = set(input().split()) \n",
        "    m = int(input()); \n",
        "    s2 = set(input().split())\n",
        "    subset=s1.intersection(s2)\n",
        "    if(subset==s1):\n",
        "        print(\"True\")\n",
        "    else:\n",
        "        print(\"False\")\n"
      ],
      "execution_count": 37,
      "outputs": [
        {
          "output_type": "stream",
          "text": [
            "3\n",
            "5\n",
            "1 2 3 5 6\n",
            "9\n",
            "9 8 5 6 3 2 1 4 7\n",
            "True\n",
            "1\n",
            "2\n",
            "5\n",
            "3 6 5 4 1 \n",
            "False\n",
            "7\n",
            "1 2 3 5 6 8 9\n",
            "3\n",
            "9 8 2\n",
            "False\n"
          ],
          "name": "stdout"
        }
      ]
    },
    {
      "cell_type": "code",
      "metadata": {
        "colab": {
          "base_uri": "https://localhost:8080/"
        },
        "id": "rbgQtR62HawM",
        "outputId": "366b1722-dfb0-4b12-d021-e0fddef05ee4"
      },
      "source": [
        "#ques 18 Check strict Subset\n",
        "A=set(map(int,input().split()))\n",
        "n=int(input())\n",
        "count=0\n",
        "for i in range(n):\n",
        "    s1=set(map(int,input().split()))\n",
        "    if s1<A:\n",
        "        count+=1\n",
        "if count==n:\n",
        "    print(True)\n",
        "else:\n",
        "    print(False)\n"
      ],
      "execution_count": 38,
      "outputs": [
        {
          "output_type": "stream",
          "text": [
            "1 2 3 4 5 6 7 8 9 10 11 12 23 45 84 78\n",
            "2\n",
            "1 2 3 4 5\n",
            "100 11 12\n",
            "False\n"
          ],
          "name": "stdout"
        }
      ]
    },
    {
      "cell_type": "code",
      "metadata": {
        "colab": {
          "base_uri": "https://localhost:8080/"
        },
        "id": "0Lywn5qmH6b2",
        "outputId": "276d2f05-26d4-4d46-8f88-0162dc2bd2d5"
      },
      "source": [
        "#ques 19 No Idea\n",
        "n, m = input().split()\n",
        "arr = input().split()\n",
        "A = set(input().split())\n",
        "B = set(input().split())\n",
        "sum=0;\n",
        "for i in arr:\n",
        "    if i in A:\n",
        "       sum+=1;\n",
        "    elif i in B:\n",
        "        sum=sum-1;\n",
        "        \n",
        "print(\"happiness score: \", sum)"
      ],
      "execution_count": 40,
      "outputs": [
        {
          "output_type": "stream",
          "text": [
            "3 2 \n",
            "1 5 3\n",
            "3 1 \n",
            "5 7\n",
            "happiness score:  1\n"
          ],
          "name": "stdout"
        }
      ]
    },
    {
      "cell_type": "code",
      "metadata": {
        "id": "EC-P2gL2JNim"
      },
      "source": [
        ""
      ],
      "execution_count": null,
      "outputs": []
    }
  ]
}