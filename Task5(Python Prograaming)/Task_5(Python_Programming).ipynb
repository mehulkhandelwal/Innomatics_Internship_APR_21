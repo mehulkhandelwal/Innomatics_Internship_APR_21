{
  "nbformat": 4,
  "nbformat_minor": 0,
  "metadata": {
    "colab": {
      "name": "Task 5(Python Programming).ipynb",
      "provenance": []
    },
    "kernelspec": {
      "name": "python3",
      "display_name": "Python 3"
    },
    "language_info": {
      "name": "python"
    }
  },
  "cells": [
    {
      "cell_type": "code",
      "metadata": {
        "colab": {
          "base_uri": "https://localhost:8080/"
        },
        "id": "ngt9oJANAEl9",
        "outputId": "6a37ca10-5009-4245-cbf5-8097680b5b1e"
      },
      "source": [
        "#ques1 Detect Float point Number\n",
        "import re\n",
        "t=int(input())\n",
        "while(t>0):\n",
        "    print(bool(re.match(r'^[+-]?\\d*.\\d+$', input())))\n",
        "    t=t-1;"
      ],
      "execution_count": null,
      "outputs": [
        {
          "output_type": "stream",
          "text": [
            "4\n",
            "4.000\n",
            "True\n",
            "-1.00\n",
            "True\n",
            "+4.54\n",
            "True\n",
            "somerandomstuff\n",
            "False\n"
          ],
          "name": "stdout"
        }
      ]
    },
    {
      "cell_type": "code",
      "metadata": {
        "colab": {
          "base_uri": "https://localhost:8080/"
        },
        "id": "9bLjO4GJALdZ",
        "outputId": "2b8967c9-70fb-4383-f746-02ccf2710e12"
      },
      "source": [
        "#ques2 Re.split()\n",
        "regex_pattern = r\"[.,]\"\n",
        "import re\n",
        "print(\"\\n\".join(re.split(regex_pattern, input())))"
      ],
      "execution_count": null,
      "outputs": [
        {
          "output_type": "stream",
          "text": [
            "100,000,000.182\n",
            "100\n",
            "000\n",
            "000\n",
            "182\n"
          ],
          "name": "stdout"
        }
      ]
    },
    {
      "cell_type": "code",
      "metadata": {
        "colab": {
          "base_uri": "https://localhost:8080/"
        },
        "id": "tKkKhW11B48p",
        "outputId": "2a4a9e10-a140-4ded-fc0a-20a2ef28b7c5"
      },
      "source": [
        "#ques3 Groups(), groups(), groupsdict()\n",
        "import re\n",
        "r = re.search(r\"([0-9a-zA-Z])\\1\", input())\n",
        "if (r != None):\n",
        "    l = r.group()[0]  \n",
        "else:\n",
        "    l=None\n",
        "    \n",
        "if (l != None):\n",
        "    print(l)\n",
        "else:\n",
        "    print('-1')"
      ],
      "execution_count": null,
      "outputs": [
        {
          "output_type": "stream",
          "text": [
            "12345678910111213141516171820212223\n",
            "1\n"
          ],
          "name": "stdout"
        }
      ]
    },
    {
      "cell_type": "code",
      "metadata": {
        "colab": {
          "base_uri": "https://localhost:8080/"
        },
        "id": "M8mHx4MJFL19",
        "outputId": "0a7140b4-4000-4e80-ed8a-51a476dfccd5"
      },
      "source": [
        "#ques4 Re.findall() & Re.finditer()\n",
        "vowel='aeiou'\n",
        "const='QWRTYPSDFGHJKLZXCVBNM'\n",
        "import re\n",
        "R = re.findall(r'(?<=['+const+'])(['+vowel+']{2,})(?=['+const+'])', input().strip(), re.I)\n",
        "if R == []:\n",
        "    print(-1)\n",
        "else:\n",
        "    print(*R, sep='\\n')\n"
      ],
      "execution_count": null,
      "outputs": [
        {
          "output_type": "stream",
          "text": [
            "rabcdeefgyYhFjkIoomnpOeorteeeeet\n",
            "ee\n",
            "Ioo\n",
            "Oeo\n",
            "eeeee\n"
          ],
          "name": "stdout"
        }
      ]
    },
    {
      "cell_type": "code",
      "metadata": {
        "colab": {
          "base_uri": "https://localhost:8080/"
        },
        "id": "o_1n5NuWLMT3",
        "outputId": "b52cbd79-6aca-4613-a1b9-95b19dd8ef7d"
      },
      "source": [
        "#ques5 Re.start() Re.end()\n",
        "import re\n",
        "S =input()\n",
        "k = input()\n",
        "output= []\n",
        "for i in range(len(S)):\n",
        "    a = re.match(k, S[i:])\n",
        "    if a:\n",
        "        output.append((i + a.start(), i + a.end()-1))\n",
        "        print((i + a.start(), i + a.end()-1))\n",
        "if(output==[]):\n",
        "    print((-1, -1))"
      ],
      "execution_count": null,
      "outputs": [
        {
          "output_type": "stream",
          "text": [
            "aaada\n",
            "aa\n",
            "(0, 1)\n",
            "(1, 2)\n"
          ],
          "name": "stdout"
        }
      ]
    },
    {
      "cell_type": "code",
      "metadata": {
        "colab": {
          "base_uri": "https://localhost:8080/"
        },
        "id": "MQieW1a2Tj_Q",
        "outputId": "21490fae-399d-431e-b6e2-967fcc99edcf"
      },
      "source": [
        "#ques6 Re.substitution()\n",
        "import re\n",
        "n = int(input())\n",
        "for i in range(n):\n",
        "    k = input()\n",
        "    while re.findall('( \\|\\| )', k):\n",
        "           k = re.sub(\"( \\|\\| )\", \" or \", k, 1)\n",
        "    while re.findall('( \\&\\& )', k):\n",
        "           k = re.sub(\"( \\&\\& )\", \" and \", k, 1)\n",
        "    \n",
        "    print(k)"
      ],
      "execution_count": null,
      "outputs": [
        {
          "output_type": "stream",
          "text": [
            "11\n",
            "a=1\n",
            "a=1\n",
            "b=input()\n",
            "b=input()\n",
            "if a + b > 0 and a - b < 0:\n",
            "if a + b > 0 and a - b < 0:\n",
            "if a + b > 0 && a - b < 0:\n",
            "if a + b > 0 and a - b < 0:\n",
            "if a + b > 0 || a - b < 0:\n",
            "if a + b > 0 or a - b < 0:\n",
            "#Note do not change &&& or ||| or & or |\n",
            "#Note do not change &&& or ||| or & or |\n",
            "#Only change those '&&' which have space on both sides.\n",
            "#Only change those '&&' which have space on both sides.\n",
            "#Only change those '|| which have space on both sides.\n",
            "#Only change those '|| which have space on both sides.\n",
            "data || science\n",
            "data or science\n",
            "machine && learning\n",
            "machine and learning\n",
            "hello && world\n",
            "hello and world\n"
          ],
          "name": "stdout"
        }
      ]
    },
    {
      "cell_type": "code",
      "metadata": {
        "id": "cbm7rvVXW4sf",
        "colab": {
          "base_uri": "https://localhost:8080/"
        },
        "outputId": "1739aef2-cd61-449e-a7e3-96165dc91086"
      },
      "source": [
        "#ques7 Validating Roman Numeral\n",
        "regex_pattern = r\"^M{0,3}(CM|CD|D?C{0,3})(XC|XL|L?X{0,3})(IX|IV|V?I{0,3})$\"\n",
        "\n",
        "import re\n",
        "print(str(bool(re.match(regex_pattern, input()))))\n",
        "\n"
      ],
      "execution_count": 1,
      "outputs": [
        {
          "output_type": "stream",
          "text": [
            "CDXXI\n",
            "True\n"
          ],
          "name": "stdout"
        }
      ]
    },
    {
      "cell_type": "code",
      "metadata": {
        "colab": {
          "base_uri": "https://localhost:8080/"
        },
        "id": "6sscduPNDnUa",
        "outputId": "5f39e1f6-e53a-45f2-c5b9-54ee8c42d251"
      },
      "source": [
        "#ques8 Validating Phone Number\n",
        "import re\n",
        "t = int(input())\n",
        "\n",
        "while t > 0:\n",
        "    number = input()    \n",
        "    r = re.search(r'[7-9]{1}\\d{9}',number)\n",
        "    if(r and len(number) == 10):\n",
        "        print(\"YES\")\n",
        "    else:\n",
        "        print(\"NO\")\n",
        "    t-= 1"
      ],
      "execution_count": 2,
      "outputs": [
        {
          "output_type": "stream",
          "text": [
            "2\n",
            "9874739281\n",
            "YES\n",
            "6758493882\n",
            "NO\n"
          ],
          "name": "stdout"
        }
      ]
    },
    {
      "cell_type": "code",
      "metadata": {
        "colab": {
          "base_uri": "https://localhost:8080/"
        },
        "id": "uvWstkXvHJ5W",
        "outputId": "590c560f-3e1a-45d5-daf5-7bddf7ee62e4"
      },
      "source": [
        "#ques9 Validating Phone Number\n",
        "import re\n",
        "t=int(input())\n",
        "l = []\n",
        "for i in range(0,t):\n",
        "    l.append(input())\n",
        "r = \"^.+ <[a-zA-Z][-\\._a-zA-Z0-9]*@[a-zA-Z]+\\.[a-zA-Z]{1,3}>$\"\n",
        "for j in range(0,t):\n",
        "    m = re.search(r,l[j])\n",
        "    if (m):\n",
        "        print (m.group())"
      ],
      "execution_count": 5,
      "outputs": [
        {
          "output_type": "stream",
          "text": [
            "2\n",
            "m <m@gmail.com>\n",
            "VIRUS <virus!@variable.:p>\n",
            "m <m@gmail.com>\n"
          ],
          "name": "stdout"
        }
      ]
    },
    {
      "cell_type": "code",
      "metadata": {
        "colab": {
          "base_uri": "https://localhost:8080/"
        },
        "id": "8Be_ArFgIr1h",
        "outputId": "9549a2ab-084c-4f47-b56a-a587225dbd3e"
      },
      "source": [
        "#ques10 HEX COLOR CODE\n",
        "import re\n",
        "n = int(input())\n",
        "s = []\n",
        "for i in range(n):\n",
        "    s.append(input())\n",
        "string = ''.join(s)\n",
        "f = re.findall(r'{([^}]*)}',str(s))\n",
        "for s in f:\n",
        "    res = re.findall(r'#([A-Fa-f0-9]{6}|[A-Fa-f0-9]{3})',s)\n",
        "    if res:\n",
        "        for r in res:\n",
        "            print('#'+str(r))"
      ],
      "execution_count": 8,
      "outputs": [
        {
          "output_type": "stream",
          "text": [
            "6\n",
            "#test\n",
            "{\n",
            "color:#FFFFFF\n",
            "backcolor:#FFFFFF\n",
            "{\n",
            "}\n",
            "#FFFFFF\n",
            "#FFFFFF\n"
          ],
          "name": "stdout"
        }
      ]
    },
    {
      "cell_type": "code",
      "metadata": {
        "colab": {
          "base_uri": "https://localhost:8080/"
        },
        "id": "Oyid9EkpNiMg",
        "outputId": "5ba6db86-f71e-4b39-802e-e13022db4605"
      },
      "source": [
        "#ques11 html parser1\n",
        "from html.parser import HTMLParser\n",
        "import re\n",
        "class MyHTMLParser(HTMLParser):\n",
        "    def handle_starttag(self, tag, attrs):\n",
        "        print(\"Start :\", tag)\n",
        "        for x in attrs:\n",
        "            print('->', x[0], '>', x[1])\n",
        "    def handle_endtag(self, tag):\n",
        "        print(\"End   :\", tag)\n",
        "    def handle_startendtag(self, tag, attrs):\n",
        "        print(\"Empty :\", tag)\n",
        "        for x in attrs:\n",
        "            print('->', x[0], '>', x[1])\n",
        "parser = MyHTMLParser()\n",
        "for _ in range(int(input())):\n",
        "    parser.feed(input())"
      ],
      "execution_count": 9,
      "outputs": [
        {
          "output_type": "stream",
          "text": [
            "2\n",
            "<html><head><title>HTML Parser - I</title></head>\n",
            "Start : html\n",
            "Start : head\n",
            "Start : title\n",
            "End   : title\n",
            "End   : head\n",
            "<body data-modal-target class='1'><h1>HackerRank</h1><br /></body></html>\n",
            "Start : body\n",
            "-> data-modal-target > None\n",
            "-> class > 1\n",
            "Start : h1\n",
            "End   : h1\n",
            "Empty : br\n",
            "End   : body\n",
            "End   : html\n"
          ],
          "name": "stdout"
        }
      ]
    },
    {
      "cell_type": "code",
      "metadata": {
        "colab": {
          "base_uri": "https://localhost:8080/"
        },
        "id": "o6vAAaplPq0v",
        "outputId": "756a10a2-6386-4a00-c619-4a91594a4962"
      },
      "source": [
        "#ques12 html parser2\n",
        "from html.parser import HTMLParser\n",
        "\n",
        "class MyHTMLParser(HTMLParser):\n",
        "    def handle_comment(self, data):\n",
        "        N=data.split('\\n')\n",
        "        print(\">>> Multi-line Comment\" if len(N)>1 else '>>> Single-line Comment')\n",
        "        for i in N:\n",
        "            print(i)\n",
        "    def handle_data(self, data):\n",
        "        if data != '\\n':\n",
        "            print(\">>> Data\", data, sep='\\n')  \n",
        "html = \"\"       \n",
        "for i in range(int(input())):\n",
        "    html += input().rstrip()\n",
        "    html += '\\n'\n",
        "    \n",
        "parser = MyHTMLParser()\n",
        "parser.feed(html)\n",
        "parser.close()"
      ],
      "execution_count": 10,
      "outputs": [
        {
          "output_type": "stream",
          "text": [
            "4\n",
            "<!--[if IE 9]>IE9-specific content <![endif]-->\n",
            "<div> Welcome to HackerRank</div>\n",
            "<![endif]-->\n",
            "<!--[if IE 9]>IE9-specific content<![endif]-->\n",
            ">>> Single-line Comment\n",
            "[if IE 9]>IE9-specific content <![endif]\n",
            ">>> Data\n",
            " Welcome to HackerRank\n",
            ">>> Data\n",
            "IE9-specific content\n",
            ">>> Data\n",
            "<![endif]-->\n"
          ],
          "name": "stdout"
        }
      ]
    },
    {
      "cell_type": "code",
      "metadata": {
        "colab": {
          "base_uri": "https://localhost:8080/"
        },
        "id": "VGSNnd14RHoe",
        "outputId": "f8970225-5e31-4411-e2a4-52c9c4061a28"
      },
      "source": [
        "#ques13 Detect HTML Tags, Attributes and Attribute Values\n",
        "str=''\n",
        "import re\n",
        "for i in range(int(input())):\n",
        "    str += input().strip()\n",
        "inp = re.sub(r'<!--(.*?)-->','',str)\n",
        "for i in re.finditer(r'<([a-zA-Z][a-zA-Z0-9]*)([^>]*)>', str):\n",
        "    print(i.group(1))\n",
        "    for j in re.finditer(r'([a-zA-Z][^=]*)=\"([^\"]+)\"',i.group(2)):\n",
        "        print('->',j.group(1),'>',j.group(2))"
      ],
      "execution_count": 11,
      "outputs": [
        {
          "output_type": "stream",
          "text": [
            "5\n",
            "<script type=\"text/javascript\" src=\"js/cufon-yui.js\"></script>\n",
            "<script type=\"text/javascript\" src=\"js/TitilliumMaps.font.js\"></script><h1>Business Solutions</h1>\n",
            "<h2>Business Insurance</h2><script type=\"text/javascript\">\n",
            "Cufon.replace('h1, h2', { fontFamily: \"TitilliumMaps26L\", hover: true });\n",
            "</script>\n",
            "script\n",
            "-> type > text/javascript\n",
            "-> src > js/cufon-yui.js\n",
            "script\n",
            "-> type > text/javascript\n",
            "-> src > js/TitilliumMaps.font.js\n",
            "h1\n",
            "h2\n",
            "script\n",
            "-> type > text/javascript\n"
          ],
          "name": "stdout"
        }
      ]
    },
    {
      "cell_type": "code",
      "metadata": {
        "colab": {
          "base_uri": "https://localhost:8080/"
        },
        "id": "FNUMgKyMSmSg",
        "outputId": "79b8ba94-cfc5-402f-bfbf-00b3f1c3d70b"
      },
      "source": [
        "#ques14 Validating UID\n",
        "import re\n",
        "n=int(input())\n",
        "for _ in range(n):\n",
        "    t = input()\n",
        "    if(re.match(r'(?!.*(.).*\\1)(?=(.)(?!.*\\2))(?=.*[A-Z].*[A-Z])(?=.*[0-9].*[0-9].*[0-9])(?=[a-zA-Z0-9]{10}$)',t)):\n",
        "        print('Valid')\n",
        "    else:\n",
        "        print('Invalid')"
      ],
      "execution_count": 12,
      "outputs": [
        {
          "output_type": "stream",
          "text": [
            "2\n",
            "B1CD102354\n",
            "Invalid\n",
            "B1CDEF2354\n",
            "Valid\n"
          ],
          "name": "stdout"
        }
      ]
    },
    {
      "cell_type": "code",
      "metadata": {
        "colab": {
          "base_uri": "https://localhost:8080/"
        },
        "id": "8Zr10rrQT9E1",
        "outputId": "ce7f9332-3733-4178-8513-f4115d6cace7"
      },
      "source": [
        "#ques15 Validating Credit Card Numbers\n",
        "import re\n",
        "t=int(input())\n",
        "for _ in range(t) :\n",
        "    cc = input().strip()\n",
        "    if ('-' in cc) :\n",
        "        if re.match(r\"(\\d{4}-){3}\\d{4}\",cc) :\n",
        "            cc = re.sub(r'-','',cc)\n",
        "        else :\n",
        "            print(\"Invalid\")\n",
        "            continue\n",
        "    if len(cc)==16 and re.match(r\"[456]\\d{15}\",cc) and (not re.search(r\".*(.)\\1{3}\",cc)):\n",
        "        print(\"Valid\")\n",
        "    else :\n",
        "        print(\"Invalid\")"
      ],
      "execution_count": 13,
      "outputs": [
        {
          "output_type": "stream",
          "text": [
            "4\n",
            "4123456789123456\n",
            "Valid\n",
            "61234-567-8912-3456\n",
            "Invalid\n",
            "5133-3367-8912-3456\n",
            "Invalid\n",
            "4123356789123456\n",
            "Valid\n"
          ],
          "name": "stdout"
        }
      ]
    },
    {
      "cell_type": "code",
      "metadata": {
        "colab": {
          "base_uri": "https://localhost:8080/"
        },
        "id": "MRYMDBBAVMpQ",
        "outputId": "32453061-9eab-4c4e-cc0d-5e94c8f4bab2"
      },
      "source": [
        "#ques16 Validating Postal code\n",
        "regex_integer_in_range = r\"^[1-9][0-9]{5}$\"\n",
        "regex_alternating_repetitive_digit_pair = r\"(\\d)(?=.\\1)\"\n",
        "import re\n",
        "P = input()\n",
        "print (bool(re.match(regex_integer_in_range, P)) \n",
        "and len(re.findall(regex_alternating_repetitive_digit_pair, P)) < 2)"
      ],
      "execution_count": 14,
      "outputs": [
        {
          "output_type": "stream",
          "text": [
            "110000\n",
            "False\n"
          ],
          "name": "stdout"
        }
      ]
    },
    {
      "cell_type": "code",
      "metadata": {
        "colab": {
          "base_uri": "https://localhost:8080/"
        },
        "id": "wDsKwHkoWXgo",
        "outputId": "c762260d-dc5e-42bb-bdd4-29164649a3b1"
      },
      "source": [
        "#ques 17 Matrix Script\n",
        "import re\n",
        "N , M = map(int, input().split())\n",
        "L = []\n",
        "for _ in range(N):\n",
        "    S = input()\n",
        "    L.append(list(S))\n",
        "SL = ''\n",
        "for _ in zip(*L):\n",
        "    SL = SL + ''.join(_)\n",
        "def replaceMatrixCode(match):\n",
        "    return match.group(0).replace(match.group(1), ' ')\n",
        "r = re.sub(\"[a-zA-Z0-9]([!@#$%&\\s]+)[a-zA-Z0-9]\", replaceMatrixCode, SL)\n",
        "print(r)"
      ],
      "execution_count": 16,
      "outputs": [
        {
          "output_type": "stream",
          "text": [
            "7 3\n",
            "Tsi\n",
            "h%x\n",
            "i #\n",
            "sM \n",
            "$a \n",
            "#t%\n",
            "ir!\n",
            "This is Matrix#  %!\n"
          ],
          "name": "stdout"
        }
      ]
    },
    {
      "cell_type": "code",
      "metadata": {
        "id": "9oB8gw9jXpPZ"
      },
      "source": [
        ""
      ],
      "execution_count": null,
      "outputs": []
    }
  ]
}