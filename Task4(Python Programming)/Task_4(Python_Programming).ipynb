{
  "nbformat": 4,
  "nbformat_minor": 0,
  "metadata": {
    "colab": {
      "name": "Task 4(Python Programming).ipynb",
      "provenance": []
    },
    "kernelspec": {
      "name": "python3",
      "display_name": "Python 3"
    },
    "language_info": {
      "name": "python"
    }
  },
  "cells": [
    {
      "cell_type": "code",
      "metadata": {
        "colab": {
          "base_uri": "https://localhost:8080/"
        },
        "id": "zxJxvQy9g224",
        "outputId": "1a439484-ff31-41ee-97e6-43bb42232786"
      },
      "source": [
        "#ques1 SWAP CASE\n",
        "s=input()\n",
        "swap = ''\n",
        "for i in s:\n",
        "  if i.islower():\n",
        "    swap += i.upper()\n",
        "  elif i.isupper():\n",
        "    swap += i.lower()\n",
        "  else:\n",
        "    swap += i\n",
        "print(swap)"
      ],
      "execution_count": null,
      "outputs": [
        {
          "output_type": "stream",
          "text": [
            "HackerRank.com presents \"Pythonist 2\"\n",
            "hACKERrANK.COM PRESENTS \"pYTHONIST 2\"\n"
          ],
          "name": "stdout"
        }
      ]
    },
    {
      "cell_type": "code",
      "metadata": {
        "colab": {
          "base_uri": "https://localhost:8080/"
        },
        "id": "_ifQ-oJiZLSZ",
        "outputId": "8486a911-d40e-49dd-c0cf-d315bf15c361"
      },
      "source": [
        "#ques2 String split and Join\n",
        "def split_and_join(line):\n",
        "    line=line.split(\" \")\n",
        "    line = \"-\".join(line)\n",
        "    return line\n",
        "\n",
        "if __name__ == '__main__':\n",
        "    line = input()\n",
        "    result = split_and_join(line)\n",
        "    print(result)"
      ],
      "execution_count": 1,
      "outputs": [
        {
          "output_type": "stream",
          "text": [
            "this is a string\n",
            "this-is-a-string\n"
          ],
          "name": "stdout"
        }
      ]
    },
    {
      "cell_type": "code",
      "metadata": {
        "colab": {
          "base_uri": "https://localhost:8080/"
        },
        "id": "DsnmFhlMZUoK",
        "outputId": "4a6bf7cc-45dd-43f7-9e1c-d50c7f217775"
      },
      "source": [
        "#ques3 What's your name\n",
        "def print_full_name(first, last):\n",
        "   print(f\"Hello {first} {last}! You just delved into python.\")\n",
        "\n",
        "if __name__ == '__main__':\n",
        "    first_name = input()\n",
        "    last_name = input()\n",
        "    print_full_name(first_name, last_name)"
      ],
      "execution_count": 9,
      "outputs": [
        {
          "output_type": "stream",
          "text": [
            "mehul\n",
            "khandelwal\n",
            "Hello mehul khandelwal! You just delved into python.\n"
          ],
          "name": "stdout"
        }
      ]
    },
    {
      "cell_type": "code",
      "metadata": {
        "colab": {
          "base_uri": "https://localhost:8080/"
        },
        "id": "I4gZJmXwZVuK",
        "outputId": "c661d782-4e72-4315-99eb-4765b39cbe1f"
      },
      "source": [
        "#ques4 Mutations\n",
        "def mutate_string(string, position, character):\n",
        "    L=list(string)\n",
        "    L[position]=character\n",
        "    string=''.join(L)\n",
        "    return string\n",
        "\n",
        "if __name__ == '__main__':\n",
        "    s = input()\n",
        "    i, c = input().split()\n",
        "    s_new = mutate_string(s, int(i), c)\n",
        "    print(s_new)"
      ],
      "execution_count": 7,
      "outputs": [
        {
          "output_type": "stream",
          "text": [
            "abracadabra\n",
            "5 k\n",
            "abrackdabra\n"
          ],
          "name": "stdout"
        }
      ]
    },
    {
      "cell_type": "code",
      "metadata": {
        "colab": {
          "base_uri": "https://localhost:8080/"
        },
        "id": "uIDftCEmZVrq",
        "outputId": "1532844c-7847-4ce3-8d9b-84a52205c5af"
      },
      "source": [
        "#ques5 Find a string\n",
        "def count_substring(string, sub_string):\n",
        "    k=0\n",
        "    for i in range(0,len(string)-len(sub_string)+1):\n",
        "        #print(sub_string,string[i:i+len(sub_string)])\n",
        "        if( sub_string==string[i:i+len(sub_string)]) :\n",
        "            k+=1\n",
        "    return k\n",
        "\n",
        "if __name__ == '__main__':\n",
        "    string = input().strip()\n",
        "    sub_string = input().strip()\n",
        "    \n",
        "    count = count_substring(string, sub_string)\n",
        "    print(count)"
      ],
      "execution_count": 6,
      "outputs": [
        {
          "output_type": "stream",
          "text": [
            "ABCDCDC\n",
            "CDC\n",
            "2\n"
          ],
          "name": "stdout"
        }
      ]
    },
    {
      "cell_type": "code",
      "metadata": {
        "colab": {
          "base_uri": "https://localhost:8080/"
        },
        "id": "8WZaa0BZZVos",
        "outputId": "ad0774d8-13b0-424a-9908-9f5c649f0fec"
      },
      "source": [
        "#ques6 string Validators\n",
        "if __name__ == '__main__':\n",
        "    s = input()\n",
        "    c1=c2=c3=c4=c5=0\n",
        "    for i in s:\n",
        "        if i.isalnum():\n",
        "                c1=c1+1\n",
        "        if i.isalpha():\n",
        "                c2=c2+1\n",
        "        if i.isdigit():\n",
        "                c3=c3+1\n",
        "        if i.islower():\n",
        "                c4=c4+1\n",
        "        if i.isupper():\n",
        "                c5=c5+1\n",
        "    for i in [c1,c2,c3,c4,c5]:\n",
        "        if i>0:\n",
        "                print(\"True\")\n",
        "        else:\n",
        "                print(\"False\")\n",
        "        \n",
        "    \n"
      ],
      "execution_count": 5,
      "outputs": [
        {
          "output_type": "stream",
          "text": [
            "qA2\n",
            "True\n",
            "True\n",
            "True\n",
            "True\n",
            "True\n"
          ],
          "name": "stdout"
        }
      ]
    },
    {
      "cell_type": "code",
      "metadata": {
        "colab": {
          "base_uri": "https://localhost:8080/"
        },
        "id": "B8wNyNY1ZVlg",
        "outputId": "f395854d-436a-488a-efef-32a89e11bc47"
      },
      "source": [
        "#ques7 Text Alignment\n",
        "thickness = int(input())\n",
        "c = 'H'\n",
        "for i in range(thickness):\n",
        "    print((c*i).rjust(thickness-1)+c+(c*i).ljust(thickness-1))\n",
        "\n",
        "for i in range(thickness+1):\n",
        "    print((c*thickness).center(thickness*2)+(c*thickness).center(thickness*6))\n",
        "for i in range((thickness+1)//2):\n",
        "    print((c*thickness*5).center(thickness*6))    \n",
        "for i in range(thickness+1):\n",
        "    print((c*thickness).center(thickness*2)+(c*thickness).center(thickness*6))    \n",
        "for i in range(thickness):\n",
        "    print(((c*(thickness-i-1)).rjust(thickness)+c+(c*(thickness-i-1)).ljust(thickness)).rjust(thickness*6))  \n"
      ],
      "execution_count": 4,
      "outputs": [
        {
          "output_type": "stream",
          "text": [
            "5\n",
            "    H    \n",
            "   HHH   \n",
            "  HHHHH  \n",
            " HHHHHHH \n",
            "HHHHHHHHH\n",
            "  HHHHH               HHHHH             \n",
            "  HHHHH               HHHHH             \n",
            "  HHHHH               HHHHH             \n",
            "  HHHHH               HHHHH             \n",
            "  HHHHH               HHHHH             \n",
            "  HHHHH               HHHHH             \n",
            "  HHHHHHHHHHHHHHHHHHHHHHHHH   \n",
            "  HHHHHHHHHHHHHHHHHHHHHHHHH   \n",
            "  HHHHHHHHHHHHHHHHHHHHHHHHH   \n",
            "  HHHHH               HHHHH             \n",
            "  HHHHH               HHHHH             \n",
            "  HHHHH               HHHHH             \n",
            "  HHHHH               HHHHH             \n",
            "  HHHHH               HHHHH             \n",
            "  HHHHH               HHHHH             \n",
            "                    HHHHHHHHH \n",
            "                     HHHHHHH  \n",
            "                      HHHHH   \n",
            "                       HHH    \n",
            "                        H     \n"
          ],
          "name": "stdout"
        }
      ]
    },
    {
      "cell_type": "code",
      "metadata": {
        "colab": {
          "base_uri": "https://localhost:8080/"
        },
        "id": "fd-XLL-xZVgL",
        "outputId": "a2201438-783a-4868-d0c4-132cab65af82"
      },
      "source": [
        "#ques8 Text Wrap\n",
        "import textwrap\n",
        "\n",
        "def wrap(string, max_width):\n",
        "    return (textwrap.fill(string,max_width))\n",
        "\n",
        "if __name__ == '__main__':\n",
        "    string, max_width = input(), int(input())\n",
        "    result = wrap(string, max_width)\n",
        "    print(result)"
      ],
      "execution_count": 3,
      "outputs": [
        {
          "output_type": "stream",
          "text": [
            "ABCDEFGHIJKLIMNOQRSTUVWXYZ\n",
            "4\n",
            "ABCD\n",
            "EFGH\n",
            "IJKL\n",
            "IMNO\n",
            "QRST\n",
            "UVWX\n",
            "YZ\n"
          ],
          "name": "stdout"
        }
      ]
    },
    {
      "cell_type": "code",
      "metadata": {
        "colab": {
          "base_uri": "https://localhost:8080/"
        },
        "id": "clwW8UbMZVcy",
        "outputId": "c6a20407-844c-41f6-ab84-494f1135afc2"
      },
      "source": [
        "#ques9 Designer Door Mat\n",
        "n, m = [int(x) for x in input().split()]\n",
        "\n",
        "for k in range(1,n+1):\n",
        "    d=(n+1)//2-abs((n+1)//2-k)\n",
        "    if 2*d==n+1: \n",
        "        print('-'*((m-7)//2)+'WELCOME'+'-'*((m-7)//2))\n",
        "    else: \n",
        "        print('-'*((m-6*d+3)//2)+'.|'+'..|'*(2*d-2)+'.'+'-'*((m-6*d+3)//2))\n"
      ],
      "execution_count": 2,
      "outputs": [
        {
          "output_type": "stream",
          "text": [
            "7 21\n",
            "---------.|.---------\n",
            "------.|..|..|.------\n",
            "---.|..|..|..|..|.---\n",
            "-------WELCOME-------\n",
            "---.|..|..|..|..|.---\n",
            "------.|..|..|.------\n",
            "---------.|.---------\n"
          ],
          "name": "stdout"
        }
      ]
    },
    {
      "cell_type": "code",
      "metadata": {
        "colab": {
          "base_uri": "https://localhost:8080/"
        },
        "id": "CkWeIlgpXrIH",
        "outputId": "5a4ab6b8-a277-4335-9a07-a198d14311c1"
      },
      "source": [
        "#ques 10 STRING FORMATTIING\n",
        "def out(N, m):\n",
        "    print(' '.join(['{0:{1}d}'.format(N, m),'{0:{1}o}'.format(N, m),'{0:{1}X}'.format(N, m),'{0:{1}b}'.format(N, m)]))\n",
        "N = int(input())\n",
        "m = len(bin(N)) - 2\n",
        "for i in range(1, N+1):\n",
        "    out(i, m)"
      ],
      "execution_count": null,
      "outputs": [
        {
          "output_type": "stream",
          "text": [
            "17\n",
            "    1     1     1     1\n",
            "    2     2     2    10\n",
            "    3     3     3    11\n",
            "    4     4     4   100\n",
            "    5     5     5   101\n",
            "    6     6     6   110\n",
            "    7     7     7   111\n",
            "    8    10     8  1000\n",
            "    9    11     9  1001\n",
            "   10    12     A  1010\n",
            "   11    13     B  1011\n",
            "   12    14     C  1100\n",
            "   13    15     D  1101\n",
            "   14    16     E  1110\n",
            "   15    17     F  1111\n",
            "   16    20    10 10000\n",
            "   17    21    11 10001\n"
          ],
          "name": "stdout"
        }
      ]
    },
    {
      "cell_type": "code",
      "metadata": {
        "colab": {
          "base_uri": "https://localhost:8080/"
        },
        "id": "tFAl5TdBXuwj",
        "outputId": "7a035e3f-30f7-4a92-89a1-4ed0b97eb05f"
      },
      "source": [
        "# ques 11 ALPHABET RANGOLI\n",
        "size = int(input())\n",
        "lst = size*2-1\n",
        "sub_lst = 4*size - 3\n",
        "stack = []\n",
        "letrs = tuple([chr(i) for i in range(97,97+size)])\n",
        "inc = 0\n",
        "ci = -1 \n",
        "for x in range(size):\n",
        "    pos = lst - 1 - inc\n",
        "    c = ci\n",
        "    min_stack = ['-']*lst\n",
        "    for j in range(lst-1,pos-1,-2):\n",
        "        min_stack[j] = letrs[c]\n",
        "        c+=1     \n",
        "    stack.append(min_stack)\n",
        "    ci +=-1\n",
        "    inc+=2\n",
        "for min_st in range(len(stack)-2,-1,-1):\n",
        "    stack.append(stack[min_st])\n",
        "if size==1:\n",
        "    print('a')\n",
        "else:\n",
        "    for st in stack:\n",
        "        print (''.join(st)+''.join(st[len(st)-2::-1]))"
      ],
      "execution_count": null,
      "outputs": [
        {
          "output_type": "stream",
          "text": [
            "5\n",
            "--------e--------\n",
            "------e-d-e------\n",
            "----e-d-c-d-e----\n",
            "--e-d-c-b-c-d-e--\n",
            "e-d-c-b-a-b-c-d-e\n",
            "--e-d-c-b-c-d-e--\n",
            "----e-d-c-d-e----\n",
            "------e-d-e------\n",
            "--------e--------\n"
          ],
          "name": "stdout"
        }
      ]
    },
    {
      "cell_type": "code",
      "metadata": {
        "colab": {
          "base_uri": "https://localhost:8080/"
        },
        "id": "ih3kDPDbgOfU",
        "outputId": "505d9d5c-f572-49be-98cf-f1bc0026dd7e"
      },
      "source": [
        "#ques12 CAPITALIZE\n",
        "s=input()\n",
        "a=[]\n",
        "a.append(s[0].upper())\n",
        "for i in range(len(s)-1):\n",
        "  if s[i]==\" \":\n",
        "    a.append(s[i+1].upper())\n",
        "  else:\n",
        "    a.append(s[i+1])\n",
        "string=\"\".join(a)\n",
        "print(string)"
      ],
      "execution_count": null,
      "outputs": [
        {
          "output_type": "stream",
          "text": [
            "hello world\n",
            "Hello World\n"
          ],
          "name": "stdout"
        }
      ]
    },
    {
      "cell_type": "code",
      "metadata": {
        "colab": {
          "base_uri": "https://localhost:8080/"
        },
        "id": "Yfuv9B6hetfE",
        "outputId": "fee4cb5a-03a7-4834-ffd4-bd5b1625543e"
      },
      "source": [
        "#ques13 MINION GAME\n",
        "s = input()\n",
        "n = len(s)\n",
        "stuart = 0\n",
        "kevin = 0\n",
        "\n",
        "for i in range(n):\n",
        "    if s[i] in ['A','E','I','O','U']:\n",
        "        kevin += (n-i)\n",
        "    else:\n",
        "        stuart += (n-i)\n",
        "\n",
        "if stuart > kevin:\n",
        "    print(\"Stuart \" + str(stuart))\n",
        "elif stuart == kevin:\n",
        "    print(\"Draw\")\n",
        "else:\n",
        "    print(\"Kevin \" + str(kevin))"
      ],
      "execution_count": null,
      "outputs": [
        {
          "output_type": "stream",
          "text": [
            "BANANA\n",
            "Stuart 12\n"
          ],
          "name": "stdout"
        }
      ]
    },
    {
      "cell_type": "code",
      "metadata": {
        "colab": {
          "base_uri": "https://localhost:8080/"
        },
        "id": "F6kTDxlifJxC",
        "outputId": "c20df885-d5df-43f3-8660-ab5b337bdd70"
      },
      "source": [
        "#ques14 Merge the tools\n",
        "s = input()\n",
        "n = len(s)\n",
        "k = int(input())\n",
        "m = int(n/k)\n",
        "string = ['']*m\n",
        "ans = ['']*m\n",
        "for i in range(0,m):\n",
        "    string[i] = s[(i*k):(k*(i+1))]\n",
        "for i in range(0,m):\n",
        "    ldict = {}\n",
        "    for letter in string[i]:\n",
        "        ldict[letter] = 0\n",
        "    for letter in string[i]:\n",
        "        if(ldict[letter] == 0):\n",
        "            ldict[letter]+=1\n",
        "            ans[i] = ans[i]+letter\n",
        "        ldict[letter]+=1\n",
        "for i in range(0,m):\n",
        "    print(ans[i])\n",
        "        "
      ],
      "execution_count": null,
      "outputs": [
        {
          "output_type": "stream",
          "text": [
            "AABCAAADA\n",
            "3\n",
            "AB\n",
            "CA\n",
            "AD\n"
          ],
          "name": "stdout"
        }
      ]
    },
    {
      "cell_type": "code",
      "metadata": {
        "id": "R0K9BzkCgEoD"
      },
      "source": [
        ""
      ],
      "execution_count": null,
      "outputs": []
    }
  ]
}