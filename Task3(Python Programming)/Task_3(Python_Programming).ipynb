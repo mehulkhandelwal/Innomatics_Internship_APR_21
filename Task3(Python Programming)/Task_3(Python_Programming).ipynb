{
  "nbformat": 4,
  "nbformat_minor": 0,
  "metadata": {
    "colab": {
      "name": "Task-3(Python Programming).ipynb",
      "provenance": []
    },
    "kernelspec": {
      "name": "python3",
      "display_name": "Python 3"
    },
    "language_info": {
      "name": "python"
    }
  },
  "cells": [
    {
      "cell_type": "code",
      "metadata": {
        "colab": {
          "base_uri": "https://localhost:8080/"
        },
        "id": "CelcusqZ1mo8",
        "outputId": "e48264ae-4193-4bab-c065-cc19e3f8434d"
      },
      "source": [
        "#ques1 Polar Coordinates\n",
        "import cmath\n",
        "polar=input()\n",
        "print (abs(complex(polar)))\n",
        "print(cmath.phase(complex(polar)))"
      ],
      "execution_count": 2,
      "outputs": [
        {
          "output_type": "stream",
          "text": [
            "1+2j\n",
            "2.23606797749979\n",
            "1.1071487177940904\n"
          ],
          "name": "stdout"
        }
      ]
    },
    {
      "cell_type": "code",
      "metadata": {
        "colab": {
          "base_uri": "https://localhost:8080/"
        },
        "id": "wLOONSGA1Kbj",
        "outputId": "22c8760e-dda0-441a-d9cb-7bd638451194"
      },
      "source": [
        "#ques2 Find angle MBC\n",
        "import math\n",
        "AB = float(input())\n",
        "BC = float(input())\n",
        "angle=int(round(math.degrees(math.atan2(AB, BC))))\n",
        "print(str(angle)+u\"\\u00B0\")"
      ],
      "execution_count": 1,
      "outputs": [
        {
          "output_type": "stream",
          "text": [
            "10\n",
            "10\n",
            "45°\n"
          ],
          "name": "stdout"
        }
      ]
    },
    {
      "cell_type": "code",
      "metadata": {
        "colab": {
          "base_uri": "https://localhost:8080/"
        },
        "id": "MWKpTOsJ1dax",
        "outputId": "0f43d193-d3e4-45bf-a414-f408f7a7924c"
      },
      "source": [
        "#ques3 MOD DivMOD\n",
        "a,b=int(input()), int(input())\n",
        "print(a//b)\n",
        "print(a%b)\n",
        "print(divmod(a,b))\n"
      ],
      "execution_count": 7,
      "outputs": [
        {
          "output_type": "stream",
          "text": [
            "177\n",
            "10\n",
            "17\n",
            "7\n",
            "(17, 7)\n"
          ],
          "name": "stdout"
        }
      ]
    },
    {
      "cell_type": "code",
      "metadata": {
        "colab": {
          "base_uri": "https://localhost:8080/"
        },
        "id": "IW6wDV-P10s8",
        "outputId": "9490c4e2-1664-4ff2-e2d9-c7ac2c677a03"
      },
      "source": [
        "#ques4 Power- MOD POWER\n",
        "a,b,m= int(input()),int(input()),int(input())\n",
        "print(pow(a,b))\n",
        "print(pow(a,b,m))\n"
      ],
      "execution_count": 9,
      "outputs": [
        {
          "output_type": "stream",
          "text": [
            "3\n",
            "4\n",
            "5\n",
            "81\n",
            "1\n"
          ],
          "name": "stdout"
        }
      ]
    },
    {
      "cell_type": "code",
      "metadata": {
        "colab": {
          "base_uri": "https://localhost:8080/"
        },
        "id": "dzpPIf2A11uc",
        "outputId": "940dd30e-e376-4c8d-8bca-6787000e1b74"
      },
      "source": [
        "#ques5 Integers Come In All Sizes\n",
        "\n",
        "a=int(input())\n",
        "b=int(input())\n",
        "c=int(input())\n",
        "d=int(input())\n",
        "print(pow(a,b)+pow(c,d))"
      ],
      "execution_count": 10,
      "outputs": [
        {
          "output_type": "stream",
          "text": [
            "9\n",
            "29\n",
            "7\n",
            "27\n",
            "4710194409608608369201743232\n"
          ],
          "name": "stdout"
        }
      ]
    },
    {
      "cell_type": "code",
      "metadata": {
        "colab": {
          "base_uri": "https://localhost:8080/"
        },
        "id": "0YQn3bWP12bM",
        "outputId": "79a3f770-c659-46e7-85f3-92459448cd6b"
      },
      "source": [
        "#ques6 Triangle Quest\n",
        "for i in range(1,int(input())):\n",
        "    print(i*((pow(10,i)-1)//9))"
      ],
      "execution_count": 11,
      "outputs": [
        {
          "output_type": "stream",
          "text": [
            "5\n",
            "1\n",
            "22\n",
            "333\n",
            "4444\n"
          ],
          "name": "stdout"
        }
      ]
    },
    {
      "cell_type": "code",
      "metadata": {
        "colab": {
          "base_uri": "https://localhost:8080/"
        },
        "id": "7KL4uEYO13Y2",
        "outputId": "cca2f61e-7cc5-4808-8f72-b67487ee100f"
      },
      "source": [
        "#ques7 Triangle Quest2\n",
        "for i in range(1,int(input())+1):\n",
        "    print ((int((10**i - 1) / 9))**2)"
      ],
      "execution_count": 12,
      "outputs": [
        {
          "output_type": "stream",
          "text": [
            "5\n",
            "1\n",
            "121\n",
            "12321\n",
            "1234321\n",
            "123454321\n"
          ],
          "name": "stdout"
        }
      ]
    },
    {
      "cell_type": "code",
      "metadata": {
        "id": "htt5bjd94mIU"
      },
      "source": [
        ""
      ],
      "execution_count": null,
      "outputs": []
    }
  ]
}