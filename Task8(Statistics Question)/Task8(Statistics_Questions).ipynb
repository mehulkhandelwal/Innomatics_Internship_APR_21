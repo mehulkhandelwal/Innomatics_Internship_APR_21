{
  "nbformat": 4,
  "nbformat_minor": 0,
  "metadata": {
    "colab": {
      "name": "Task8(Statistics Questions).ipynb",
      "provenance": []
    },
    "kernelspec": {
      "name": "python3",
      "display_name": "Python 3"
    },
    "language_info": {
      "name": "python"
    }
  },
  "cells": [
    {
      "cell_type": "code",
      "metadata": {
        "colab": {
          "base_uri": "https://localhost:8080/"
        },
        "id": "zLoYzfgdJKYT",
        "outputId": "275ed639-cb02-4554-c4a2-2ee626023d9a"
      },
      "source": [
        "#ques1 Binomial distribution 1\n",
        "def binomial(n,r):\n",
        "    return factorial(n)/(factorial(r)*factorial(n-r))\n",
        "def factorial(n):\n",
        "    val = 1\n",
        "    for i in range(1,n+1):\n",
        "        val*=i\n",
        "    return val\n",
        "a,b = map(float, input().split())\n",
        "q = 1/((a/b)+1)\n",
        "p = 1-q\n",
        "ans = 0\n",
        "\n",
        "for x in range(3, 7):\n",
        "    ans= ans+binomial(6,x)*(p**x)*(q**(6-x))\n",
        "print(round(ans,3))\n",
        "\n"
      ],
      "execution_count": null,
      "outputs": [
        {
          "output_type": "stream",
          "text": [
            "1.09 1\n",
            "0.696\n"
          ],
          "name": "stdout"
        }
      ]
    },
    {
      "cell_type": "code",
      "metadata": {
        "id": "R7RF9st5JP6Q",
        "colab": {
          "base_uri": "https://localhost:8080/"
        },
        "outputId": "fdd28733-a140-4d64-93f1-396e51226fa1"
      },
      "source": [
        "#ques2 Binomial distribution 2\n",
        "from math import factorial as fact\n",
        "p,n = map(int, input().strip().split(' '))\n",
        "def PnC(n,x):\n",
        "    return fact(n)/(fact(x)*fact(n-x))\n",
        "\n",
        "p = p/100\n",
        "q = 1-p\n",
        "x = 2\n",
        "\n",
        "def binomial(x,n,p):\n",
        "    a = 0\n",
        "    b = 0\n",
        "    for i in range(x,n+1):\n",
        "        a += (PnC(n,i)*(p**i)*(q**(n-i)))\n",
        "    for j in range(x+1):\n",
        "        b+= (PnC(n,j)*(p**j)*(q**(n-j)))\n",
        "    print('%.3f' % b)\n",
        "    return '%.3f' % a\n",
        "print(binomial(x,n,p))"
      ],
      "execution_count": null,
      "outputs": [
        {
          "output_type": "stream",
          "text": [
            "12 10\n",
            "0.891\n",
            "0.342\n"
          ],
          "name": "stdout"
        }
      ]
    },
    {
      "cell_type": "code",
      "metadata": {
        "colab": {
          "base_uri": "https://localhost:8080/"
        },
        "id": "xlDTNQan6yeJ",
        "outputId": "33616f7d-cc33-4294-983a-c84a86bf147c"
      },
      "source": [
        "#ques3 Normal distribution 1\n",
        "import math as mt\n",
        "def ND(x,M,SD):\n",
        "    return (1+mt.erf((x-M)/(SD*(2**0.5))))/2\n",
        "print(round(ND(19.5,20,2),3))\n",
        "print(round((ND(22,20,2)-ND(20,20,2)),3))"
      ],
      "execution_count": null,
      "outputs": [
        {
          "output_type": "stream",
          "text": [
            "0.401\n",
            "0.341\n"
          ],
          "name": "stdout"
        }
      ]
    },
    {
      "cell_type": "code",
      "metadata": {
        "colab": {
          "base_uri": "https://localhost:8080/"
        },
        "id": "bYzrFt5t7-7C",
        "outputId": "5fa16633-3335-4949-bf8d-f2b1e23122ff"
      },
      "source": [
        "#ques4 Normal distribution 2\n",
        "import math as mt\n",
        "def ND(x,M,SD):\n",
        "    return 0.5*(1 + mt.erf((x-M)/(SD*mt.sqrt(2))))\n",
        "\n",
        "M = 70\n",
        "SD = 10\n",
        "print(round(100*(1 - ND(80,M,SD)), 2))\n",
        "print(round(100*(1 - ND(60,M,SD)), 2))\n",
        "print(round(100*(ND(60,M,SD)), 2))\n"
      ],
      "execution_count": null,
      "outputs": [
        {
          "output_type": "stream",
          "text": [
            "15.87\n",
            "84.13\n",
            "15.87\n"
          ],
          "name": "stdout"
        }
      ]
    },
    {
      "cell_type": "code",
      "metadata": {
        "colab": {
          "base_uri": "https://localhost:8080/"
        },
        "id": "T8HXtKl68Nx1",
        "outputId": "40941ebf-03c7-4064-d379-507938437f40"
      },
      "source": [
        "#ques5 central limit theorem 1\n",
        "from math import erf,sqrt\n",
        "maxweight = int(input())\n",
        "N_box = int(input())\n",
        "mean_cargo= int(input())\n",
        "SD_cargo = int(input())\n",
        "def central_limit_thoerem(maxweight,N_box,mean_cargo,SD_cargo):\n",
        "    mean_clt = N_box*mean_cargo\n",
        "    sd_clt = sqrt(N_box)*SD_cargo\n",
        "    error = (maxweight-mean_clt)/(sd_clt*sqrt(2))\n",
        "    p = 0.5*(1+erf(error))\n",
        "    return '%.4f'%p\n",
        "print(central_limit_thoerem(maxweight,N_box,mean_cargo,SD_cargo))"
      ],
      "execution_count": null,
      "outputs": [
        {
          "output_type": "stream",
          "text": [
            "9800\n",
            "49\n",
            "205\n",
            "15\n",
            "0.0098\n"
          ],
          "name": "stdout"
        }
      ]
    },
    {
      "cell_type": "code",
      "metadata": {
        "colab": {
          "base_uri": "https://localhost:8080/"
        },
        "id": "RxxUvfVM-bry",
        "outputId": "8b20e2b2-e788-4745-9a52-fabe32af395f"
      },
      "source": [
        "#ques6 central limit theorem 2\n",
        "from math import erf,sqrt\n",
        "maxweight = int(input())\n",
        "N_box = int(input())\n",
        "mean_cargo= eval(input())\n",
        "SD_cargo = eval(input())\n",
        "def central_limit_thoerem(maxweight,N_box,mean_cargo,SD_cargo):\n",
        "    mean_clt = N_box*mean_cargo\n",
        "    sd_clt = sqrt(N_box)*SD_cargo\n",
        "    error = (maxweight-mean_clt)/(sd_clt*sqrt(2))\n",
        "    p = 0.5*(1+erf(error))\n",
        "    return '%.4f'%p\n",
        "print(central_limit_thoerem(maxweight,N_box,mean_cargo,SD_cargo))"
      ],
      "execution_count": null,
      "outputs": [
        {
          "output_type": "stream",
          "text": [
            "250\n",
            "100\n",
            "2.4\n",
            "2.0\n",
            "0.6915\n"
          ],
          "name": "stdout"
        }
      ]
    },
    {
      "cell_type": "code",
      "metadata": {
        "id": "MGXqkltW-myG",
        "colab": {
          "base_uri": "https://localhost:8080/"
        },
        "outputId": "0beeda45-6032-41c9-d0f2-447c25f49e8c"
      },
      "source": [
        "#ques7 central limit theorem 3\n",
        "from math import sqrt\n",
        "s = int(input())\n",
        "mean = eval(input())\n",
        "SD = eval(input())\n",
        "p = eval(input())\n",
        "z = eval(input())\n",
        "def CLT(sample,mu,sd,percent,z_score):\n",
        "    mean_clt = s*mean\n",
        "    sd_clt = sqrt(s)*SD\n",
        "    X1 = (mean_clt-(sd_clt*z))/s\n",
        "    X2 = (mean_clt+(sd_clt*z))/s\n",
        "    print(X1)\n",
        "    return X2\n",
        "print(CLT(s,mean,SD,p,z))\n"
      ],
      "execution_count": 12,
      "outputs": [
        {
          "output_type": "stream",
          "text": [
            "100\n",
            "500\n",
            "80\n",
            ".95\n",
            "1.96\n",
            "484.32\n",
            "515.68\n"
          ],
          "name": "stdout"
        }
      ]
    },
    {
      "cell_type": "code",
      "metadata": {
        "colab": {
          "base_uri": "https://localhost:8080/"
        },
        "id": "pdsFlkIlJ6nG",
        "outputId": "caa4d210-b7f6-46dd-c4c7-1690b2472566"
      },
      "source": [
        "#ques8 Pearson Correlation Coefficient I\n",
        "def mean(x):\n",
        "    return '%.2f' % (sum(x)/len(x))\n",
        "def SD(x):\n",
        "    x = sorted(x)\n",
        "    mu = mean(x)\n",
        "    sqr = []\n",
        "    for i in x:\n",
        "        sqr.append((i-float(mu))**2)\n",
        "    return '%.5f'%((sum(sqr)/len(x))**0.5)\n",
        "def Pcoeff(x,y):\n",
        "    s = 0\n",
        "    for i in range(len(x)):\n",
        "        s += (x[i]-eval(mean(x)))*(y[i]-eval(mean(y)))\n",
        "    return '%.3f' % (s/(len(x)*eval(SD(x))*eval(SD(y))))\n",
        "n = int(input())\n",
        "X = map(eval,input().strip().split(' '))\n",
        "Y = map(eval,input().strip().split(' '))\n",
        "print(Pcoeff(list(X),list(Y)))"
      ],
      "execution_count": 14,
      "outputs": [
        {
          "output_type": "stream",
          "text": [
            "10\n",
            "10 9.8 8 7.8 7.7 7 6 5 4 2\n",
            "200 44 32 24 22 17 15 12 8 4\n",
            "0.612\n"
          ],
          "name": "stdout"
        }
      ]
    },
    {
      "cell_type": "code",
      "metadata": {
        "colab": {
          "base_uri": "https://localhost:8080/"
        },
        "id": "t5Bv0wb5J6YS",
        "outputId": "eb831f9a-efb9-4f9f-b847-7a74480da16d"
      },
      "source": [
        "#ques9 Least Square Regression Line\n",
        "x1,y1 = map(int, input().strip().split(' '))\n",
        "x2,y2 = map(int, input().strip().split(' '))\n",
        "x3,y3 = map(int, input().strip().split(' '))\n",
        "x4,y4 = map(int, input().strip().split(' '))\n",
        "x5,y5 = map(int, input().strip().split(' '))\n",
        "m = [x1,x2,x3,x4,x5]\n",
        "s = [y1,y2,y3,y4,y5]\n",
        "def LSR(X,Y):\n",
        "    X1 = sum(X)/len(X)\n",
        "    Y1 = sum(Y)/len(Y)\n",
        "    sqr_X = sum([i**2 for i in X])\n",
        "    XY = sum([i*j for i,j in zip(X,Y)])\n",
        "    b = ((len(X)*XY)-(sum(X)*sum(Y)))/((len(X)*sqr_X)-sum(X)**2)\n",
        "    a = Y1-(b*X1)\n",
        "    m = 80\n",
        "    return '%.3f'%(a+b*m)\n",
        "print(LSR(m,s))"
      ],
      "execution_count": 13,
      "outputs": [
        {
          "output_type": "stream",
          "text": [
            "95 85\n",
            "85 95\n",
            "80 70\n",
            "70 65\n",
            "60 70\n",
            "78.288\n"
          ],
          "name": "stdout"
        }
      ]
    },
    {
      "cell_type": "code",
      "metadata": {
        "colab": {
          "base_uri": "https://localhost:8080/"
        },
        "id": "-iyx77S4JTwn",
        "outputId": "e66f90a8-974e-484d-a7e7-beb018b130cb"
      },
      "source": [
        "#ques10 Multiple regression\n",
        "import numpy as np\n",
        "from numpy.linalg import inv\n",
        "\n",
        "def Multiple_Linear_Regression(X,Y):\n",
        "    XT = X.transpose()\n",
        "    XT_X = XT.dot(X)\n",
        "    XT_X_inv= inv(XT_X)\n",
        "    XT_X_inv_XT = XT_X_inv.dot(XT)\n",
        "    B = XT_X_inv_XT.dot(Y)\n",
        "    return B\n",
        "\n",
        "m,n = map(int,input().strip().split(' '))\n",
        "x = []\n",
        "Y = []\n",
        "one = np.ones((n,), dtype=np.int)\n",
        "for _ in range(n):\n",
        "    eq = list(map(eval,input().strip().split(' ')))\n",
        "    x.append(eq[0:len(eq)-1])\n",
        "    Y.append(eq[-1:])\n",
        "X = np.column_stack((one,x))\n",
        "\n",
        "q = int(input())\n",
        "b_arr = []\n",
        "for _ in range(q):\n",
        "    a = list(map(eval,input().strip().split(' ')))\n",
        "    b_arr.append(a)\n",
        "B = Multiple_Linear_Regression(X,Y)\n",
        "B_1 = B[1:].transpose()\n",
        "B_1 = [B_1]*q\n",
        "\n",
        "B_1 = np.array(B_1)\n",
        "b_arr = np.array(b_arr)\n",
        "B_1 = B_1.tolist()\n",
        "B_1 = [i[0] for i in B_1]\n",
        "B_1 = np.array(B_1)\n",
        "\n",
        "B_1 = B_1.transpose()\n",
        "mul = b_arr.dot(B_1)\n",
        "mul = [i[0] for i in mul]\n",
        "B_0 = B[0].tolist()\n",
        "\n",
        "B_0 = B_0*len(mul)\n",
        "for i,j in zip(B_0,mul):\n",
        "    print('%.2f'%(i+j))"
      ],
      "execution_count": 10,
      "outputs": [
        {
          "output_type": "stream",
          "text": [
            "2 7\n",
            "0.18 0.89 109.85\n",
            "1.0 0.26 155.72\n",
            "0.92 0.11 137.66\n",
            "0.07 0.37 76.17\n",
            "0.85 0.16 139.75\n",
            "0.99 0.41 162.6\n",
            "0.87 0.47 151.77\n",
            "4\n",
            "0.49 0.18\n",
            "0.57 0.83\n",
            "0.56 0.64\n",
            "0.76 0.18\n",
            "105.21\n",
            "142.67\n",
            "132.94\n",
            "129.70\n"
          ],
          "name": "stdout"
        }
      ]
    },
    {
      "cell_type": "code",
      "metadata": {
        "id": "r8H5X4C4JY0u"
      },
      "source": [
        ""
      ],
      "execution_count": null,
      "outputs": []
    }
  ]
}