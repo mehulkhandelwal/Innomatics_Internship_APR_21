{
  "nbformat": 4,
  "nbformat_minor": 0,
  "metadata": {
    "colab": {
      "name": "Task6(Python Programming).ipynb",
      "provenance": []
    },
    "kernelspec": {
      "name": "python3",
      "display_name": "Python 3"
    },
    "language_info": {
      "name": "python"
    }
  },
  "cells": [
    {
      "cell_type": "code",
      "metadata": {
        "colab": {
          "base_uri": "https://localhost:8080/"
        },
        "id": "HZsESWzmDKpX",
        "outputId": "b4ecdfd6-ecc8-4e55-da75-d939647836e5"
      },
      "source": [
        "#ques1 Arrays\n",
        "import numpy\n",
        "\n",
        "def arrays(arr):\n",
        "  arr1=numpy.array(arr,float)\n",
        "  return arr1[::-1]\n",
        "\n",
        "arr = input().strip().split(' ')\n",
        "result = arrays(arr)\n",
        "print(result)"
      ],
      "execution_count": null,
      "outputs": [
        {
          "output_type": "stream",
          "text": [
            "1 2 3 4 -8 -10\n",
            "[-10.  -8.   4.   3.   2.   1.]\n"
          ],
          "name": "stdout"
        }
      ]
    },
    {
      "cell_type": "code",
      "metadata": {
        "colab": {
          "base_uri": "https://localhost:8080/"
        },
        "id": "2ORUROVWDmWx",
        "outputId": "2b331d35-dc97-4f60-eb4f-611506161416"
      },
      "source": [
        "#ques2 Shape and reshape\n",
        "import numpy as np\n",
        "list = input().split(' ')\n",
        "arr1=np.array(list,int)\n",
        "print(np.reshape(arr1,(3,3)))"
      ],
      "execution_count": null,
      "outputs": [
        {
          "output_type": "stream",
          "text": [
            "1 2 3 4 5 6 7 8 9\n",
            "[[1 2 3]\n",
            " [4 5 6]\n",
            " [7 8 9]]\n"
          ],
          "name": "stdout"
        }
      ]
    },
    {
      "cell_type": "code",
      "metadata": {
        "colab": {
          "base_uri": "https://localhost:8080/"
        },
        "id": "2jR_APIZD8A8",
        "outputId": "1a60e03a-526f-4ad1-ed9e-6db6f4b66913"
      },
      "source": [
        "#ques 3 Transpose and Flatten\n",
        "import numpy\n",
        "N,M = map(int, input().split())\n",
        "A=[]\n",
        "for _ in range(N):\n",
        "    A.append(input().split())\n",
        "arrA = numpy.array(A,int)\n",
        "print(numpy.transpose(arrA))\n",
        "print(arrA.flatten())\n"
      ],
      "execution_count": null,
      "outputs": [
        {
          "output_type": "stream",
          "text": [
            "2 2\n",
            "1 2 \n",
            "3 4\n",
            "[[1 3]\n",
            " [2 4]]\n",
            "[1 2 3 4]\n"
          ],
          "name": "stdout"
        }
      ]
    },
    {
      "cell_type": "code",
      "metadata": {
        "colab": {
          "base_uri": "https://localhost:8080/"
        },
        "id": "C_eC2xiqEA0t",
        "outputId": "1451965f-2cfc-4cc5-8b9d-0693ad7a152e"
      },
      "source": [
        "#ques 4 Concatenate\n",
        "import numpy as np\n",
        "n,m,p=map(int,input().split())\n",
        "a1=np.array([input().split() for i in range(n)],int)\n",
        "a2=np.array([input().split() for i in range(m)],int)\n",
        "print (np.concatenate((a1,a2),axis=0))\n"
      ],
      "execution_count": null,
      "outputs": [
        {
          "output_type": "stream",
          "text": [
            "4 3 2\n",
            "1 2\n",
            "1 2\n",
            "1 2\n",
            "1 2\n",
            "3 4\n",
            "3 4\n",
            "3 4\n",
            "[[1 2]\n",
            " [1 2]\n",
            " [1 2]\n",
            " [1 2]\n",
            " [3 4]\n",
            " [3 4]\n",
            " [3 4]]\n"
          ],
          "name": "stdout"
        }
      ]
    },
    {
      "cell_type": "code",
      "metadata": {
        "colab": {
          "base_uri": "https://localhost:8080/",
          "height": 246
        },
        "id": "5Q_y2uvWEAmz",
        "outputId": "f0be48a2-22b1-41c4-8ac9-1a660aed2b67"
      },
      "source": [
        "#ques 5 Zeros and ones\n",
        "import numpy as np\n",
        "n=list(map(int,input().split()))\n",
        "print(np.zeros(n, dtype=np.int))\n",
        "print(np.ones(n, dtype=np.int))"
      ],
      "execution_count": null,
      "outputs": [
        {
          "output_type": "stream",
          "text": [
            "3 3 3\n"
          ],
          "name": "stdout"
        },
        {
          "output_type": "error",
          "ename": "TypeError",
          "evalue": "ignored",
          "traceback": [
            "\u001b[0;31m---------------------------------------------------------------------------\u001b[0m",
            "\u001b[0;31mTypeError\u001b[0m                                 Traceback (most recent call last)",
            "\u001b[0;32m<ipython-input-11-f418a2bb869b>\u001b[0m in \u001b[0;36m<module>\u001b[0;34m()\u001b[0m\n\u001b[1;32m      1\u001b[0m \u001b[0;31m#ques 5 Zeros and ones\u001b[0m\u001b[0;34m\u001b[0m\u001b[0;34m\u001b[0m\u001b[0;34m\u001b[0m\u001b[0m\n\u001b[1;32m      2\u001b[0m \u001b[0;32mimport\u001b[0m \u001b[0mnumpy\u001b[0m \u001b[0;32mas\u001b[0m \u001b[0mnp\u001b[0m\u001b[0;34m\u001b[0m\u001b[0;34m\u001b[0m\u001b[0m\n\u001b[0;32m----> 3\u001b[0;31m \u001b[0mn\u001b[0m\u001b[0;34m=\u001b[0m\u001b[0mlist\u001b[0m\u001b[0;34m(\u001b[0m\u001b[0mmap\u001b[0m\u001b[0;34m(\u001b[0m\u001b[0mint\u001b[0m\u001b[0;34m,\u001b[0m\u001b[0minput\u001b[0m\u001b[0;34m(\u001b[0m\u001b[0;34m)\u001b[0m\u001b[0;34m.\u001b[0m\u001b[0msplit\u001b[0m\u001b[0;34m(\u001b[0m\u001b[0;34m)\u001b[0m\u001b[0;34m)\u001b[0m\u001b[0;34m)\u001b[0m\u001b[0;34m\u001b[0m\u001b[0;34m\u001b[0m\u001b[0m\n\u001b[0m\u001b[1;32m      4\u001b[0m \u001b[0mprint\u001b[0m\u001b[0;34m(\u001b[0m\u001b[0mnp\u001b[0m\u001b[0;34m.\u001b[0m\u001b[0mzeros\u001b[0m\u001b[0;34m(\u001b[0m\u001b[0mn\u001b[0m\u001b[0;34m,\u001b[0m \u001b[0mdtype\u001b[0m\u001b[0;34m=\u001b[0m\u001b[0mnp\u001b[0m\u001b[0;34m.\u001b[0m\u001b[0mint\u001b[0m\u001b[0;34m)\u001b[0m\u001b[0;34m)\u001b[0m\u001b[0;34m\u001b[0m\u001b[0;34m\u001b[0m\u001b[0m\n\u001b[1;32m      5\u001b[0m \u001b[0mprint\u001b[0m\u001b[0;34m(\u001b[0m\u001b[0mnp\u001b[0m\u001b[0;34m.\u001b[0m\u001b[0mones\u001b[0m\u001b[0;34m(\u001b[0m\u001b[0mn\u001b[0m\u001b[0;34m,\u001b[0m \u001b[0mdtype\u001b[0m\u001b[0;34m=\u001b[0m\u001b[0mnp\u001b[0m\u001b[0;34m.\u001b[0m\u001b[0mint\u001b[0m\u001b[0;34m)\u001b[0m\u001b[0;34m)\u001b[0m\u001b[0;34m\u001b[0m\u001b[0;34m\u001b[0m\u001b[0m\n",
            "\u001b[0;31mTypeError\u001b[0m: 'list' object is not callable"
          ]
        }
      ]
    },
    {
      "cell_type": "code",
      "metadata": {
        "colab": {
          "base_uri": "https://localhost:8080/"
        },
        "id": "1evc-dQDC0iE",
        "outputId": "bbd403b2-ad41-4434-8ee2-5807cd583078"
      },
      "source": [
        "#ques6 Eye and Identity\n",
        "import numpy as np\n",
        "n, m = map(int, input().split(' '))\n",
        "print (np.eye(n, m, k = 0))"
      ],
      "execution_count": null,
      "outputs": [
        {
          "output_type": "stream",
          "text": [
            "3 3\n",
            "[[1. 0. 0.]\n",
            " [0. 1. 0.]\n",
            " [0. 0. 1.]]\n"
          ],
          "name": "stdout"
        }
      ]
    },
    {
      "cell_type": "code",
      "metadata": {
        "id": "FYjeojLMC41O",
        "colab": {
          "base_uri": "https://localhost:8080/"
        },
        "outputId": "033bd5d9-c93f-4807-b292-755eb1201c93"
      },
      "source": [
        "#ques7 Floor, ceil and rint\n",
        "import numpy as np\n",
        "np.set_printoptions(legacy='1.13')\n",
        "A=input().split()\n",
        "Arr=np.array(A,float)\n",
        "print(np.floor(Arr))\n",
        "print(np.ceil(Arr))\n",
        "print(np.rint(Arr))\n"
      ],
      "execution_count": null,
      "outputs": [
        {
          "output_type": "stream",
          "text": [
            "1.1 2.2 3.3 4.4 5.5 6.6 7.7 8.8 9.9\n",
            "[ 1.  2.  3.  4.  5.  6.  7.  8.  9.]\n",
            "[  2.   3.   4.   5.   6.   7.   8.   9.  10.]\n",
            "[  1.   2.   3.   4.   6.   7.   8.   9.  10.]\n"
          ],
          "name": "stdout"
        }
      ]
    },
    {
      "cell_type": "code",
      "metadata": {
        "colab": {
          "base_uri": "https://localhost:8080/"
        },
        "id": "hW970aDHbnRC",
        "outputId": "3d2a28b7-36c4-4cad-cc97-738ed611dfec"
      },
      "source": [
        "#queS8 SUM AND PROD\n",
        "import numpy as np\n",
        "n,m=map(int, input().split())\n",
        "A=[]\n",
        "for _ in range(n):\n",
        "    val=input().split()\n",
        "    A.append(val)\n",
        "\n",
        "Arr=np.array(A,int)\n",
        "sumArr=np.sum(Arr, axis = 0)\n",
        "print(np.prod(sumArr))"
      ],
      "execution_count": null,
      "outputs": [
        {
          "output_type": "stream",
          "text": [
            "2 2\n",
            "1 3\n",
            "4 2\n",
            "25\n"
          ],
          "name": "stdout"
        }
      ]
    },
    {
      "cell_type": "code",
      "metadata": {
        "colab": {
          "base_uri": "https://localhost:8080/"
        },
        "id": "uJKFAU5ddM5B",
        "outputId": "fd3ddd49-689a-46c2-e7a1-2d4febef0642"
      },
      "source": [
        "#ques9 Max and Min\n",
        "import numpy as np\n",
        "n,m=map(int,input().split())\n",
        "a=[]\n",
        "for _  in range(n):\n",
        "    val=input().split()\n",
        "    a.append(val)\n",
        "\n",
        "arr=np.array(a,int)\n",
        "print(np.max(np.min(arr,axis=1)))\n",
        "\n"
      ],
      "execution_count": null,
      "outputs": [
        {
          "output_type": "stream",
          "text": [
            "4 2\n",
            "3 5 \n",
            "3 7\n",
            "1 3 \n",
            "4 0\n",
            "3\n"
          ],
          "name": "stdout"
        }
      ]
    },
    {
      "cell_type": "code",
      "metadata": {
        "colab": {
          "base_uri": "https://localhost:8080/"
        },
        "id": "u8vt2JXzd4we",
        "outputId": "1270e11c-6635-4623-e3e1-a6b1b2c28cac"
      },
      "source": [
        "#ques10 Mean, Var, std\n",
        "import numpy as np\n",
        "n,m=map(int,input().split())\n",
        "a=[]\n",
        "for _  in range(n):\n",
        "    val=input().split()\n",
        "    a.append(val)\n",
        "\n",
        "arr=np.array(a,int)\n",
        "print(np.mean(arr, axis = 1))\n",
        "print(np.var(arr, axis = 0))\n",
        "print(round(np.std(arr, axis = None),11))"
      ],
      "execution_count": null,
      "outputs": [
        {
          "output_type": "stream",
          "text": [
            "2 2 \n",
            "1 2\n",
            "3 4\n",
            "[ 1.5  3.5]\n",
            "[ 1.  1.]\n",
            "1.11803398875\n"
          ],
          "name": "stdout"
        }
      ]
    },
    {
      "cell_type": "code",
      "metadata": {
        "colab": {
          "base_uri": "https://localhost:8080/"
        },
        "id": "UZekA8Jqqc7p",
        "outputId": "02f6bb80-c0ca-4cb4-a032-73e028177592"
      },
      "source": [
        "#ques11 Dot and cross\n",
        "import numpy as np\n",
        "n=int(input())\n",
        "A=[]\n",
        "B=[]\n",
        "for _ in range(n):\n",
        "    valA=input().split()\n",
        "    A.append(valA)\n",
        "for _ in range(n):\n",
        "    valB=input().split()\n",
        "    B.append(valB)\n",
        "arrA=np.array(A,int)\n",
        "arrB=np.array(B,int)\n",
        "print(np.dot(arrA,arrB))\n",
        "\n"
      ],
      "execution_count": null,
      "outputs": [
        {
          "output_type": "stream",
          "text": [
            "2\n",
            "1 2 \n",
            "3 4 \n",
            "1 2\n",
            "3 4\n",
            "[[ 7 10]\n",
            " [15 22]]\n"
          ],
          "name": "stdout"
        }
      ]
    },
    {
      "cell_type": "code",
      "metadata": {
        "id": "YkggZACYr-fm",
        "colab": {
          "base_uri": "https://localhost:8080/"
        },
        "outputId": "14d7bf22-cdf1-498a-b549-dabc46df80c2"
      },
      "source": [
        "#ques12 Inner and outer\n",
        "import numpy as np\n",
        "A=input().split()\n",
        "B=input().split()\n",
        "arrA=np.array(A,int)\n",
        "arrB=np.array(B,int)\n",
        "print(np.inner(arrA, arrB))\n",
        "print(np.outer(arrA, arrB))"
      ],
      "execution_count": 1,
      "outputs": [
        {
          "output_type": "stream",
          "text": [
            "0 1\n",
            "2 3\n",
            "3\n",
            "[[0 0]\n",
            " [2 3]]\n"
          ],
          "name": "stdout"
        }
      ]
    },
    {
      "cell_type": "code",
      "metadata": {
        "colab": {
          "base_uri": "https://localhost:8080/"
        },
        "id": "q-5ZRjRbuR84",
        "outputId": "123187cb-d75c-465e-d6a3-2130018a8bff"
      },
      "source": [
        "#ques13 Polynomials\n",
        "import numpy as np\n",
        "A = list(map(float,input().split()));\n",
        "x=int(input())\n",
        "print(np.polyval(A,x))"
      ],
      "execution_count": 2,
      "outputs": [
        {
          "output_type": "stream",
          "text": [
            "1.1 2 3\n",
            "0\n",
            "3.0\n"
          ],
          "name": "stdout"
        }
      ]
    },
    {
      "cell_type": "code",
      "metadata": {
        "colab": {
          "base_uri": "https://localhost:8080/"
        },
        "id": "nYJ5Kr7iwEFb",
        "outputId": "52e91f2c-25b4-4d72-f3b5-0b0483a507cb"
      },
      "source": [
        "#ques14 Linear Algebra\n",
        "import numpy as np\n",
        "n=int(input())\n",
        "A=[]\n",
        "for i in range(n):\n",
        "    val=input().split()\n",
        "    A.append(val)\n",
        "arrA=np.array(A,float)\n",
        "print(np.linalg.det(arrA))"
      ],
      "execution_count": 3,
      "outputs": [
        {
          "output_type": "stream",
          "text": [
            "2\n",
            "1.1 1.1\n",
            "1.1 1.1\n",
            "0.0\n"
          ],
          "name": "stdout"
        }
      ]
    },
    {
      "cell_type": "code",
      "metadata": {
        "id": "BQ5zF_JgxIIu"
      },
      "source": [
        ""
      ],
      "execution_count": null,
      "outputs": []
    }
  ]
}