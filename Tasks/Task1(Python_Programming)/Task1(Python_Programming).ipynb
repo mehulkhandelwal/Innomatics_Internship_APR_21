{
  "nbformat": 4,
  "nbformat_minor": 0,
  "metadata": {
    "colab": {
      "name": "Task1(Python Programming).ipynb",
      "provenance": []
    },
    "kernelspec": {
      "name": "python3",
      "display_name": "Python 3"
    },
    "language_info": {
      "name": "python"
    }
  },
  "cells": [
    {
      "cell_type": "markdown",
      "metadata": {
        "id": "KZdBY4nLe8XP"
      },
      "source": [
        "# INNOMATICS_INTERNSHIP_APR_21\n"
      ]
    },
    {
      "cell_type": "markdown",
      "metadata": {
        "id": "6mwCDo5jfEMZ"
      },
      "source": [
        "### **TASK 1**"
      ]
    },
    {
      "cell_type": "code",
      "metadata": {
        "colab": {
          "base_uri": "https://localhost:8080/"
        },
        "id": "R5LXPQRZqAHN",
        "outputId": "70ce4462-80c4-49af-9bf0-c8d9c741cc46"
      },
      "source": [
        "#Ques1\n",
        "\n",
        "print(\"Hello, I am Data Science Intern at INNOMATICS RESEARCH LAB\")"
      ],
      "execution_count": 2,
      "outputs": [
        {
          "output_type": "stream",
          "text": [
            "Hello, I am Data Science Intern at INNOMATICS RESEARCH LAB\n"
          ],
          "name": "stdout"
        }
      ]
    },
    {
      "cell_type": "code",
      "metadata": {
        "colab": {
          "base_uri": "https://localhost:8080/"
        },
        "id": "mhKZGmRmehEn",
        "outputId": "e97f8033-0c4d-4ee0-a81b-261db5aeb132"
      },
      "source": [
        "#Ques2\n",
        "n = int(input())\n",
        "if(n%2!=0):\n",
        "  print('Weird')\n",
        "elif(n%2==0 and 2<=n<=5):\n",
        "  print('Not Weird')\n",
        "elif(n%2==0 and 6<=n<=20):\n",
        "  print('Weird')\n",
        "elif(n>20):\n",
        "  print('Not Weird')"
      ],
      "execution_count": 5,
      "outputs": [
        {
          "output_type": "stream",
          "text": [
            "6\n",
            "Weird\n"
          ],
          "name": "stdout"
        }
      ]
    },
    {
      "cell_type": "markdown",
      "metadata": {
        "id": "yZjc1AzfgwnX"
      },
      "source": [
        "Here 6 is in the inclusive range of 6 and 20 and is an even number. Hence it prints Weird."
      ]
    },
    {
      "cell_type": "code",
      "metadata": {
        "colab": {
          "base_uri": "https://localhost:8080/"
        },
        "id": "e6ZXf7e1f_td",
        "outputId": "faae353d-e288-4853-aaff-f9be7ae6a386"
      },
      "source": [
        "#Ques3\n",
        "a = int(input())\n",
        "b = int(input())\n",
        "print('Sum of',a,'and',b, 'is:',a+b)\n",
        "print('Subtraction of',a,'and',b, 'is:',a-b)\n",
        "print('Multiplication of',a,'and',b, 'is:',a*b)"
      ],
      "execution_count": 12,
      "outputs": [
        {
          "output_type": "stream",
          "text": [
            "4\n",
            "5\n",
            "Sum of 4 and 5 is: 9\n",
            "Subtraction of 4 and 5 is: -1\n",
            "Multiplication of 4 and 5 is: 20\n"
          ],
          "name": "stdout"
        }
      ]
    },
    {
      "cell_type": "code",
      "metadata": {
        "colab": {
          "base_uri": "https://localhost:8080/"
        },
        "id": "y3MkPunDhoP7",
        "outputId": "949c97b5-f977-4fe8-9072-d249a00be5a0"
      },
      "source": [
        "#Ques4\n",
        "a = int(input())\n",
        "b = int(input())\n",
        "print('Integer division is: ', a//b)\n",
        "print('Float division is: ', a/b)"
      ],
      "execution_count": 14,
      "outputs": [
        {
          "output_type": "stream",
          "text": [
            "5\n",
            "4\n",
            "Integer division is:  1\n",
            "Float division is:  1.25\n"
          ],
          "name": "stdout"
        }
      ]
    },
    {
      "cell_type": "code",
      "metadata": {
        "colab": {
          "base_uri": "https://localhost:8080/"
        },
        "id": "GuDHNYhxiHpW",
        "outputId": "ad8f510b-d4de-470c-993b-218494d72818"
      },
      "source": [
        "#Ques5\n",
        "n = int(input())\n",
        "print('Square Of Number from 0 to',n,'is:')\n",
        "for i in range(n):\n",
        "  print(i,'*',i,'=',i**2)"
      ],
      "execution_count": 17,
      "outputs": [
        {
          "output_type": "stream",
          "text": [
            "5\n",
            "Square Of Number from 0 to 5 is:\n",
            "0 * 0 = 0\n",
            "1 * 1 = 1\n",
            "2 * 2 = 4\n",
            "3 * 3 = 9\n",
            "4 * 4 = 16\n"
          ],
          "name": "stdout"
        }
      ]
    },
    {
      "cell_type": "code",
      "metadata": {
        "colab": {
          "base_uri": "https://localhost:8080/"
        },
        "id": "qPtS45spjyn7",
        "outputId": "7e9a08a4-bebf-4d1e-8bfd-6dd2da625176"
      },
      "source": [
        "#Ques6\n",
        "n = int(input())\n",
        "for i in range(n):\n",
        "  print(i+1, end=\"\")"
      ],
      "execution_count": 18,
      "outputs": [
        {
          "output_type": "stream",
          "text": [
            "6\n",
            "123456"
          ],
          "name": "stdout"
        }
      ]
    },
    {
      "cell_type": "code",
      "metadata": {
        "colab": {
          "base_uri": "https://localhost:8080/"
        },
        "id": "GwJg7LoSl2o7",
        "outputId": "04723d58-cf52-4b35-c402-b611c7b2fed3"
      },
      "source": [
        "#Ques7\n",
        "def is_leap(year):\n",
        "    leap = False\n",
        "    if(year%4==0):\n",
        "        if(year%100!=0 or year%400==0):\n",
        "                leap=True  \n",
        "    return leap\n",
        "year = int(input())\n",
        "print(is_leap(year))"
      ],
      "execution_count": 20,
      "outputs": [
        {
          "output_type": "stream",
          "text": [
            "2020\n",
            "True\n"
          ],
          "name": "stdout"
        }
      ]
    },
    {
      "cell_type": "code",
      "metadata": {
        "id": "DPHPkNYOoAyV"
      },
      "source": [
        ""
      ],
      "execution_count": null,
      "outputs": []
    }
  ]
}